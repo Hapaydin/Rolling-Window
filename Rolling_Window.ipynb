{
  "nbformat": 4,
  "nbformat_minor": 0,
  "metadata": {
    "kernelspec": {
      "display_name": "Python 3",
      "language": "python",
      "name": "python3"
    },
    "language_info": {
      "codemirror_mode": {
        "name": "ipython",
        "version": 3
      },
      "file_extension": ".py",
      "mimetype": "text/x-python",
      "name": "python",
      "nbconvert_exporter": "python",
      "pygments_lexer": "ipython3",
      "version": "3.7.4"
    },
    "colab": {
      "name": "Rolling-Window.ipynb",
      "provenance": [],
      "collapsed_sections": []
    }
  },
  "cells": [
    {
      "cell_type": "code",
      "metadata": {
        "id": "GdPwk8ojGWI7"
      },
      "source": [
        "#Bidirectional LSTM for streamflow problem with window regression framing\n",
        "import numpy \n",
        "import pandas as pd\n",
        "from pandas import read_csv\n",
        "import math\n",
        "import keras\n",
        "from keras.models import Sequential\n",
        "from keras.layers import Dense\n",
        "from keras.layers import LSTM\n",
        "import matplotlib.pyplot as plt\n",
        "import tensorflow as tf \n",
        "from sklearn.metrics import mean_squared_error\n",
        "from keras.layers import Bidirectional,GRU, SimpleRNN\n",
        "from keras.layers import BatchNormalization, Dropout\n",
        "from datetime import datetime\n",
        "from sklearn.metrics import mean_absolute_error\n",
        "from sklearn.metrics import mean_squared_error\n",
        "from math import sqrt\n",
        "import numpy as geek"
      ],
      "execution_count": 47,
      "outputs": []
    },
    {
      "cell_type": "code",
      "metadata": {
        "id": "6v9GUOkEGWJN",
        "outputId": "4a8e299e-001e-4319-bd9b-4882e7af1c2d",
        "colab": {
          "base_uri": "https://localhost:8080/",
          "height": 368
        }
      },
      "source": [
        "#RNN_Method = \"E2KFold/E2S3KF-sRNN-10\"\n",
        "RNN_Method = \"/content/gdrive/My Drive/Colab Notebooks/E2KFold/E2S3KF-biLSTM-10\"\n",
        "Var_LRs=[1e-1] #,1e-5,1e-6,1e-7,1e-8,1esimplsimpleRNNsRNN1e-5,1e-7] #,1e-4,1e-5,1e-6,1e-7,1e-8,1e-9]\n",
        "Var_Decays=[1e-1]#,1e-2,1e-3,1e-4,1e-5,1e-7]\n",
        "Var_epochs=[50]#,100,300,500]\n",
        "Method=\"LSTM\"\n",
        "from google.colab import drive \n",
        "drive.mount('/content/gdrive')\n",
        "\n",
        "Streamflow = pd.read_csv('/content/gdrive/My Drive/Ermenek2S3KF.csv', names = [\"SFt-1\", \"Rain\", \"Temp\", \"Hum\", \"Buh\", \"DMQ\", \"SFt\", \"Order\"])\n",
        "\n",
        "#Streamflow = pd.read_csv('Monthly.csv', names = [\"SFt\", \"Pt\", \"SSH\", \"Tmean\", \"Pmean\", \"Rhmean\", \"Month\"])\n",
        "print(Streamflow.shape)\n",
        "Streamflow.head(9)"
      ],
      "execution_count": 49,
      "outputs": [
        {
          "output_type": "stream",
          "name": "stdout",
          "text": [
            "Drive already mounted at /content/gdrive; to attempt to forcibly remount, call drive.mount(\"/content/gdrive\", force_remount=True).\n",
            "(1947, 8)\n"
          ]
        },
        {
          "output_type": "execute_result",
          "data": {
            "text/html": [
              "\n",
              "  <div id=\"df-3162f064-9815-4536-8900-2c50eafc7996\">\n",
              "    <div class=\"colab-df-container\">\n",
              "      <div>\n",
              "<style scoped>\n",
              "    .dataframe tbody tr th:only-of-type {\n",
              "        vertical-align: middle;\n",
              "    }\n",
              "\n",
              "    .dataframe tbody tr th {\n",
              "        vertical-align: top;\n",
              "    }\n",
              "\n",
              "    .dataframe thead th {\n",
              "        text-align: right;\n",
              "    }\n",
              "</style>\n",
              "<table border=\"1\" class=\"dataframe\">\n",
              "  <thead>\n",
              "    <tr style=\"text-align: right;\">\n",
              "      <th></th>\n",
              "      <th>SFt-1</th>\n",
              "      <th>Rain</th>\n",
              "      <th>Temp</th>\n",
              "      <th>Hum</th>\n",
              "      <th>Buh</th>\n",
              "      <th>DMQ</th>\n",
              "      <th>SFt</th>\n",
              "      <th>Order</th>\n",
              "    </tr>\n",
              "  </thead>\n",
              "  <tbody>\n",
              "    <tr>\n",
              "      <th>0</th>\n",
              "      <td>0.347490</td>\n",
              "      <td>0.0</td>\n",
              "      <td>2.328266</td>\n",
              "      <td>1.629347</td>\n",
              "      <td>0.001039</td>\n",
              "      <td>0.779187</td>\n",
              "      <td>0.345387</td>\n",
              "      <td>1</td>\n",
              "    </tr>\n",
              "    <tr>\n",
              "      <th>1</th>\n",
              "      <td>0.345471</td>\n",
              "      <td>0.0</td>\n",
              "      <td>2.340392</td>\n",
              "      <td>1.644914</td>\n",
              "      <td>0.001039</td>\n",
              "      <td>0.581809</td>\n",
              "      <td>0.172820</td>\n",
              "      <td>2</td>\n",
              "    </tr>\n",
              "    <tr>\n",
              "      <th>2</th>\n",
              "      <td>0.172862</td>\n",
              "      <td>0.0</td>\n",
              "      <td>2.352518</td>\n",
              "      <td>1.639725</td>\n",
              "      <td>0.001039</td>\n",
              "      <td>0.769656</td>\n",
              "      <td>0.518207</td>\n",
              "      <td>3</td>\n",
              "    </tr>\n",
              "    <tr>\n",
              "      <th>3</th>\n",
              "      <td>0.518332</td>\n",
              "      <td>0.0</td>\n",
              "      <td>2.364645</td>\n",
              "      <td>1.644914</td>\n",
              "      <td>0.001039</td>\n",
              "      <td>1.163618</td>\n",
              "      <td>2.937935</td>\n",
              "      <td>4</td>\n",
              "    </tr>\n",
              "    <tr>\n",
              "      <th>4</th>\n",
              "      <td>2.938647</td>\n",
              "      <td>0.0</td>\n",
              "      <td>2.255507</td>\n",
              "      <td>1.577457</td>\n",
              "      <td>0.001039</td>\n",
              "      <td>0.769259</td>\n",
              "      <td>1.382305</td>\n",
              "      <td>5</td>\n",
              "    </tr>\n",
              "    <tr>\n",
              "      <th>5</th>\n",
              "      <td>1.382640</td>\n",
              "      <td>0.0</td>\n",
              "      <td>2.291886</td>\n",
              "      <td>1.655292</td>\n",
              "      <td>0.001039</td>\n",
              "      <td>0.742651</td>\n",
              "      <td>1.382305</td>\n",
              "      <td>6</td>\n",
              "    </tr>\n",
              "    <tr>\n",
              "      <th>6</th>\n",
              "      <td>1.382640</td>\n",
              "      <td>0.0</td>\n",
              "      <td>2.364645</td>\n",
              "      <td>1.826530</td>\n",
              "      <td>0.001039</td>\n",
              "      <td>1.121124</td>\n",
              "      <td>2.109662</td>\n",
              "      <td>7</td>\n",
              "    </tr>\n",
              "    <tr>\n",
              "      <th>7</th>\n",
              "      <td>2.110173</td>\n",
              "      <td>0.0</td>\n",
              "      <td>2.279760</td>\n",
              "      <td>1.608591</td>\n",
              "      <td>0.001039</td>\n",
              "      <td>0.882046</td>\n",
              "      <td>1.832141</td>\n",
              "      <td>8</td>\n",
              "    </tr>\n",
              "    <tr>\n",
              "      <th>8</th>\n",
              "      <td>1.832585</td>\n",
              "      <td>0.0</td>\n",
              "      <td>2.109991</td>\n",
              "      <td>1.520378</td>\n",
              "      <td>0.001039</td>\n",
              "      <td>0.615566</td>\n",
              "      <td>0.623412</td>\n",
              "      <td>9</td>\n",
              "    </tr>\n",
              "  </tbody>\n",
              "</table>\n",
              "</div>\n",
              "      <button class=\"colab-df-convert\" onclick=\"convertToInteractive('df-3162f064-9815-4536-8900-2c50eafc7996')\"\n",
              "              title=\"Convert this dataframe to an interactive table.\"\n",
              "              style=\"display:none;\">\n",
              "        \n",
              "  <svg xmlns=\"http://www.w3.org/2000/svg\" height=\"24px\"viewBox=\"0 0 24 24\"\n",
              "       width=\"24px\">\n",
              "    <path d=\"M0 0h24v24H0V0z\" fill=\"none\"/>\n",
              "    <path d=\"M18.56 5.44l.94 2.06.94-2.06 2.06-.94-2.06-.94-.94-2.06-.94 2.06-2.06.94zm-11 1L8.5 8.5l.94-2.06 2.06-.94-2.06-.94L8.5 2.5l-.94 2.06-2.06.94zm10 10l.94 2.06.94-2.06 2.06-.94-2.06-.94-.94-2.06-.94 2.06-2.06.94z\"/><path d=\"M17.41 7.96l-1.37-1.37c-.4-.4-.92-.59-1.43-.59-.52 0-1.04.2-1.43.59L10.3 9.45l-7.72 7.72c-.78.78-.78 2.05 0 2.83L4 21.41c.39.39.9.59 1.41.59.51 0 1.02-.2 1.41-.59l7.78-7.78 2.81-2.81c.8-.78.8-2.07 0-2.86zM5.41 20L4 18.59l7.72-7.72 1.47 1.35L5.41 20z\"/>\n",
              "  </svg>\n",
              "      </button>\n",
              "      \n",
              "  <style>\n",
              "    .colab-df-container {\n",
              "      display:flex;\n",
              "      flex-wrap:wrap;\n",
              "      gap: 12px;\n",
              "    }\n",
              "\n",
              "    .colab-df-convert {\n",
              "      background-color: #E8F0FE;\n",
              "      border: none;\n",
              "      border-radius: 50%;\n",
              "      cursor: pointer;\n",
              "      display: none;\n",
              "      fill: #1967D2;\n",
              "      height: 32px;\n",
              "      padding: 0 0 0 0;\n",
              "      width: 32px;\n",
              "    }\n",
              "\n",
              "    .colab-df-convert:hover {\n",
              "      background-color: #E2EBFA;\n",
              "      box-shadow: 0px 1px 2px rgba(60, 64, 67, 0.3), 0px 1px 3px 1px rgba(60, 64, 67, 0.15);\n",
              "      fill: #174EA6;\n",
              "    }\n",
              "\n",
              "    [theme=dark] .colab-df-convert {\n",
              "      background-color: #3B4455;\n",
              "      fill: #D2E3FC;\n",
              "    }\n",
              "\n",
              "    [theme=dark] .colab-df-convert:hover {\n",
              "      background-color: #434B5C;\n",
              "      box-shadow: 0px 1px 3px 1px rgba(0, 0, 0, 0.15);\n",
              "      filter: drop-shadow(0px 1px 2px rgba(0, 0, 0, 0.3));\n",
              "      fill: #FFFFFF;\n",
              "    }\n",
              "  </style>\n",
              "\n",
              "      <script>\n",
              "        const buttonEl =\n",
              "          document.querySelector('#df-3162f064-9815-4536-8900-2c50eafc7996 button.colab-df-convert');\n",
              "        buttonEl.style.display =\n",
              "          google.colab.kernel.accessAllowed ? 'block' : 'none';\n",
              "\n",
              "        async function convertToInteractive(key) {\n",
              "          const element = document.querySelector('#df-3162f064-9815-4536-8900-2c50eafc7996');\n",
              "          const dataTable =\n",
              "            await google.colab.kernel.invokeFunction('convertToInteractive',\n",
              "                                                     [key], {});\n",
              "          if (!dataTable) return;\n",
              "\n",
              "          const docLinkHtml = 'Like what you see? Visit the ' +\n",
              "            '<a target=\"_blank\" href=https://colab.research.google.com/notebooks/data_table.ipynb>data table notebook</a>'\n",
              "            + ' to learn more about interactive tables.';\n",
              "          element.innerHTML = '';\n",
              "          dataTable['output_type'] = 'display_data';\n",
              "          await google.colab.output.renderOutput(dataTable, element);\n",
              "          const docLink = document.createElement('div');\n",
              "          docLink.innerHTML = docLinkHtml;\n",
              "          element.appendChild(docLink);\n",
              "        }\n",
              "      </script>\n",
              "    </div>\n",
              "  </div>\n",
              "  "
            ],
            "text/plain": [
              "      SFt-1  Rain      Temp       Hum       Buh       DMQ       SFt  Order\n",
              "0  0.347490   0.0  2.328266  1.629347  0.001039  0.779187  0.345387      1\n",
              "1  0.345471   0.0  2.340392  1.644914  0.001039  0.581809  0.172820      2\n",
              "2  0.172862   0.0  2.352518  1.639725  0.001039  0.769656  0.518207      3\n",
              "3  0.518332   0.0  2.364645  1.644914  0.001039  1.163618  2.937935      4\n",
              "4  2.938647   0.0  2.255507  1.577457  0.001039  0.769259  1.382305      5\n",
              "5  1.382640   0.0  2.291886  1.655292  0.001039  0.742651  1.382305      6\n",
              "6  1.382640   0.0  2.364645  1.826530  0.001039  1.121124  2.109662      7\n",
              "7  2.110173   0.0  2.279760  1.608591  0.001039  0.882046  1.832141      8\n",
              "8  1.832585   0.0  2.109991  1.520378  0.001039  0.615566  0.623412      9"
            ]
          },
          "metadata": {},
          "execution_count": 49
        }
      ]
    },
    {
      "cell_type": "code",
      "metadata": {
        "id": "zekPYnS2GWMJ"
      },
      "source": [
        "import numpy as np\n",
        "#HA_Speed_Up import matplotlib.pyplot as plt\n",
        "x= Streamflow.drop('SFt',axis=1)\n",
        "x= x.drop('Order',axis=1)\n",
        "Y= Streamflow['SFt']"
      ],
      "execution_count": 38,
      "outputs": []
    },
    {
      "cell_type": "code",
      "metadata": {
        "id": "C_Zctz6JGWOQ"
      },
      "source": [
        "X=np.array(x)\n",
        "y=np.array(Y)"
      ],
      "execution_count": 39,
      "outputs": []
    },
    {
      "cell_type": "code",
      "metadata": {
        "id": "hiYz_msfGWQA",
        "outputId": "f63b110b-faf7-4f4a-aa5d-a27832dba15d",
        "colab": {
          "base_uri": "https://localhost:8080/",
          "height": 109
        }
      },
      "source": [
        "'''\n",
        "#Tradional method\n",
        "train_size_y = int(len(y) * 0.70)\n",
        "train_size_X = int(len(X) * 0.70)\n",
        "y_train, y_test = y[0:train_size_y], y[train_size_y:len(y)]\n",
        "X_train, X_test = X[0:train_size_X], X[train_size_X:len(X)]\n",
        "\n",
        "print(X_train[0:3], X_test[0:3],y_train[0:3], y_test[0:3] )\n",
        "\n",
        "# reshape input to be [samples, time steps, features]\n",
        "X_train = numpy.reshape(X_train, (X_train.shape[0], 1, X_train.shape[1]))\n",
        "X_test = numpy.reshape(X_test, (X_test.shape[0], 1, X_test.shape[1]))\n",
        "\n",
        "input=X_train[1:]\n",
        "input_shape=X_train.shape[1:]\n",
        "print (input_shape)\n",
        "print (X_train.shape[1:])\n",
        "'''"
      ],
      "execution_count": 40,
      "outputs": [
        {
          "output_type": "execute_result",
          "data": {
            "application/vnd.google.colaboratory.intrinsic+json": {
              "type": "string"
            },
            "text/plain": [
              "'\\n#Tradional method\\ntrain_size_y = int(len(y) * 0.70)\\ntrain_size_X = int(len(X) * 0.70)\\ny_train, y_test = y[0:train_size_y], y[train_size_y:len(y)]\\nX_train, X_test = X[0:train_size_X], X[train_size_X:len(X)]\\n\\nprint(X_train[0:3], X_test[0:3],y_train[0:3], y_test[0:3] )\\n\\n# reshape input to be [samples, time steps, features]\\nX_train = numpy.reshape(X_train, (X_train.shape[0], 1, X_train.shape[1]))\\nX_test = numpy.reshape(X_test, (X_test.shape[0], 1, X_test.shape[1]))\\n\\ninput=X_train[1:]\\ninput_shape=X_train.shape[1:]\\nprint (input_shape)\\nprint (X_train.shape[1:])\\n'"
            ]
          },
          "metadata": {},
          "execution_count": 40
        }
      ]
    },
    {
      "cell_type": "code",
      "metadata": {
        "id": "j6OG1f6WGWRa",
        "outputId": "5e5cbeb5-b392-4363-981c-73f6736b5350",
        "colab": {
          "base_uri": "https://localhost:8080/"
        }
      },
      "source": [
        "train_size = 1363 # round(len(X) * 0.70)\n",
        "test_size = 584 #len(X)-train_size\n",
        "print(train_size,test_size)"
      ],
      "execution_count": 41,
      "outputs": [
        {
          "output_type": "stream",
          "name": "stdout",
          "text": [
            "1363 584\n"
          ]
        }
      ]
    },
    {
      "cell_type": "code",
      "metadata": {
        "id": "NMjewkDyGWS9",
        "outputId": "5a570f4d-5bf9-4087-e7ff-103b05e328d6",
        "colab": {
          "base_uri": "https://localhost:8080/"
        }
      },
      "source": [
        "startTime = datetime.now()\n",
        "fileOfSummary = open(RNN_Method+'_Summary_'+str(datetime.now()).replace(\":\", \".\")+'.csv', \"w\")\n",
        "fileOfSummary.write(\"Method,LR,DE,Epoch,RunTime,CCTr,CCTt,NSTr,NSTt,RMSETr,RMSETt,MAETr,MAETt,MAPETr,MAPETt\\n\")"
      ],
      "execution_count": 42,
      "outputs": [
        {
          "output_type": "execute_result",
          "data": {
            "text/plain": [
              "87"
            ]
          },
          "metadata": {},
          "execution_count": 42
        }
      ]
    },
    {
      "cell_type": "code",
      "metadata": {
        "id": "dSPdcdWbGWUT",
        "outputId": "19ff3aa9-a140-4ab3-a926-781042ce29ce",
        "colab": {
          "base_uri": "https://localhost:8080/"
        }
      },
      "source": [
        "TrainSet= np.array([[0,1363,0,0],[194,1557,0,0],[388,1751,0,0],[582,1945,0,0],[776,1947,0,192],\n",
        "                    [970,1947,0,386],[1164,1947,0,580],[1358,1947,0,774],[1552,1947,0,968],[1746,1947,0,1162]])\n",
        "\n",
        "TestSet= np.array([[1363,1947,0,0],[1557,1947,0,194],[1751,1947,0,388],[1945,1947,0,582],[0,0,192,776],\n",
        "                   [0,0,386,970],[0,0,580,1164],[0,0,774,1358],[0,0,968,1552],[0,0,1162,1746]])\n",
        "                   \n",
        "print (TrainSet[1][0])          \n",
        "print (TestSet[1][0]) "
      ],
      "execution_count": 43,
      "outputs": [
        {
          "output_type": "stream",
          "name": "stdout",
          "text": [
            "194\n",
            "1557\n"
          ]
        }
      ]
    },
    {
      "cell_type": "code",
      "metadata": {
        "id": "y-1W25EWGWVu",
        "outputId": "9cfc0b7c-2a3b-42cc-cf52-ba208cca2a43",
        "colab": {
          "base_uri": "https://localhost:8080/",
          "height": 145
        }
      },
      "source": [
        "'''\n",
        "x1= Streamflow['Order']\n",
        "for e_set in range(10):\n",
        "    X_train=np.concatenate( (x1[TrainSet[e_set][0]: TrainSet[e_set][1]], x1[TrainSet[e_set][2]: TrainSet[e_set][3]]) , axis=0)\n",
        "    X_test=np.concatenate( (x1[TestSet[e_set][0]: TestSet[e_set][1]], x1[TestSet[e_set][2]: TestSet[e_set][3]]) , axis=0)\n",
        "    \n",
        "    Y_train=np.concatenate( (x1[TrainSet[e_set][0]: TrainSet[e_set][1]], x1[TrainSet[e_set][2]: TrainSet[e_set][3]]) , axis=0)\n",
        "    Y_test=np.concatenate( (x1[TestSet[e_set][0]: TestSet[e_set][1]], x1[TestSet[e_set][2]: TestSet[e_set][3]]) , axis=0)\n",
        "\n",
        "    print (e_set)\n",
        "    print (len(X_train), \" - \", X_train[0:5] , \" - \", X_train[-5:])\n",
        "    print (len(X_test), \" - \", X_test[0:5] , \" - \", X_test[-5:])\n",
        "    print (len(Y_train), \" - \", Y_train[0:5] , \" - \", Y_train[-5:])\n",
        "    print (len(Y_test), \" - \", Y_test[0:5] , \" - \", Y_test[-5:])\n",
        "    print (\"\")\n",
        "'''"
      ],
      "execution_count": 44,
      "outputs": [
        {
          "output_type": "execute_result",
          "data": {
            "application/vnd.google.colaboratory.intrinsic+json": {
              "type": "string"
            },
            "text/plain": [
              "'\\nx1= Streamflow[\\'Order\\']\\nfor e_set in range(10):\\n    X_train=np.concatenate( (x1[TrainSet[e_set][0]: TrainSet[e_set][1]], x1[TrainSet[e_set][2]: TrainSet[e_set][3]]) , axis=0)\\n    X_test=np.concatenate( (x1[TestSet[e_set][0]: TestSet[e_set][1]], x1[TestSet[e_set][2]: TestSet[e_set][3]]) , axis=0)\\n    \\n    Y_train=np.concatenate( (x1[TrainSet[e_set][0]: TrainSet[e_set][1]], x1[TrainSet[e_set][2]: TrainSet[e_set][3]]) , axis=0)\\n    Y_test=np.concatenate( (x1[TestSet[e_set][0]: TestSet[e_set][1]], x1[TestSet[e_set][2]: TestSet[e_set][3]]) , axis=0)\\n\\n    print (e_set)\\n    print (len(X_train), \" - \", X_train[0:5] , \" - \", X_train[-5:])\\n    print (len(X_test), \" - \", X_test[0:5] , \" - \", X_test[-5:])\\n    print (len(Y_train), \" - \", Y_train[0:5] , \" - \", Y_train[-5:])\\n    print (len(Y_test), \" - \", Y_test[0:5] , \" - \", Y_test[-5:])\\n    print (\"\")\\n'"
            ]
          },
          "metadata": {},
          "execution_count": 44
        }
      ]
    },
    {
      "cell_type": "code",
      "metadata": {
        "id": "sKSbHQRBGWXY",
        "outputId": "eee045d5-5b63-49ef-e4b0-4ae49addd392",
        "colab": {
          "base_uri": "https://localhost:8080/"
        }
      },
      "source": [
        "for e_LR in Var_LRs:\n",
        "    for e_decay in Var_Decays:\n",
        "\n",
        "        for e_epoch in Var_epochs:\n",
        "\n",
        "            def create_LSTM():\n",
        "                model = Sequential()\n",
        "                #https://keras.io/layers/recurrent/#simplernn\n",
        "                model.add(Bidirectional(LSTM(250, input_shape=(1, 6), activation='relu',return_sequences=True)))\n",
        "                #model.add(Bidirectional(LSTM(200, input_shape=X_train.shape[1:], activation='relu',return_sequences=True)))\n",
        "                model.add(Dropout(0.01))\n",
        "                #model.add(BatchNormalization())\n",
        "\n",
        "                model.add(Bidirectional(LSTM(200, activation='relu')))\n",
        "\n",
        "                model.add(Dropout(0.010))\n",
        "                #model.add(BatchNormalization())\n",
        "\n",
        "                model.add(Dense(100, activation='relu'))\n",
        "                model.add(Dropout(0.010))\n",
        "\n",
        "                model.add(Dense(1, activation='relu'))\n",
        "\n",
        "                return model\n",
        "                #https://stackoverflow.com/questions/42763094/how-to-save-final-model-using-keras\n",
        "            model = create_LSTM()\n",
        "            \n",
        "            optimizer = tf.keras.optimizers.Adam(lr=e_LR, decay=e_decay)\n",
        "            model.compile(optimizer=optimizer,loss='mean_squared_error')\n",
        "\n",
        "            print(\" \")\n",
        "            print(\" \")\n",
        "            print(\"LRs:\",e_LR)\n",
        "            print(\"Decays:\",e_decay)\n",
        "            print(\"epochs:\",e_epoch)\n",
        "\n",
        "\n",
        "            for e_set in range(1):\n",
        "\n",
        "                X_train=np.concatenate( (X[TrainSet[e_set][0]: TrainSet[e_set][1]], X[TrainSet[e_set][2]: TrainSet[e_set][3]]) , axis=0)\n",
        "                X_test=np.concatenate( (X[TestSet[e_set][0]: TestSet[e_set][1]], X[TestSet[e_set][2]: TestSet[e_set][3]]) , axis=0)\n",
        "\n",
        "                y_train=np.concatenate( (y[TrainSet[e_set][0]: TrainSet[e_set][1]], y[TrainSet[e_set][2]: TrainSet[e_set][3]]) , axis=0)\n",
        "                y_test=np.concatenate( (y[TestSet[e_set][0]: TestSet[e_set][1]], y[TestSet[e_set][2]: TestSet[e_set][3]]) , axis=0)\n",
        "\n",
        "                X_train = numpy.reshape(X_train, (X_train.shape[0], 1, X_train.shape[1]))\n",
        "                X_test = numpy.reshape(X_test, (X_test.shape[0], 1, X_test.shape[1]))\n",
        "                #print(X_train.shape)\n",
        "                #print(X_test.shape)\n",
        "                #print(y_train.shape)\n",
        "                #print(y_test.shape)\n",
        "                \n",
        "                history = model.fit(X_train, y_train, epochs=e_epoch, batch_size=512, verbose=0, validation_data=(X_test, y_test))\n",
        "\n",
        "            hist_df = pd.DataFrame(history.history) \n",
        "            Time_elasped= datetime.now() - startTime\n",
        "            print('\\nTime elasped: ', Time_elasped)\n",
        "\n",
        "            Train = model.predict(X_train)\n",
        "            Test = model.predict(X_test)\n",
        "\n",
        "            #scores = model.evaluate(X_test, Test, verbose=0)\n",
        "            #print('accuracy:', scores*100)\n",
        "            \n",
        "            FileName=RNN_Method+'-LR'+str(e_LR)+'-DE'+str(e_decay)+'-'+str(e_epoch)\n",
        "            np.savetxt(FileName+'_Train.csv', Train)\n",
        "            np.savetxt(FileName+'_Test.csv', Test)\n",
        "            #with open(FileName+'_History.csv', mode='w') as f:\n",
        "            #    hist_df.to_csv(f)\n",
        "\n",
        "            #model.save(FileName+'_Model.h5')\n",
        "            Train = geek.asarray(Train)# np.loadtxt(FileName+'_Train.csv')\n",
        "            Test = geek.asarray(Test)#np.loadtxt(FileName+'_Test.csv')\n",
        "\n",
        "            Train = Train.reshape(Train.shape[0])\n",
        "            Test = Test.reshape(Test.shape[0])\n",
        "\n",
        "            print(\" \")\n",
        "            print(\"LRs:\",e_LR)\n",
        "            print(\"Decays:\",e_decay)\n",
        "            print(\"epochs:\",e_epoch)\n",
        "            print(\"Train ==>\")\n",
        "            CC_Train=np.corrcoef(y_train,Train)\n",
        "            print(\"CC_Train = %.3f\" %CC_Train[0,1])\n",
        "\n",
        "            NSTr=1 - sum((Train-y_train)**2)/sum((y_train-np.mean(y_train))**2)\n",
        "            print(\"NSTr = %.2f\" %NSTr)\n",
        "\n",
        "            rootMeanSquaredErrorTr = sqrt(mean_squared_error(y_train, Train))\n",
        "            print(\"RMSE = %.2f\" % rootMeanSquaredErrorTr)\n",
        "            MAETr=mean_absolute_error(y_train, Train)\n",
        "            print(\"MAE = %.2f\" %  MAETr)\n",
        "\n",
        "            MAPETr=np.mean(np.abs((y_train - Train) / y_train)) * 100\n",
        "            print(\"MAPE = %.2f\" %MAPETr)\n",
        "\n",
        "            print(\"Test ==>\")\n",
        "            CC_Test=np.corrcoef(y_test,Test)\n",
        "            print(\"CC_Test = %.3f\" %CC_Test[0,1])\n",
        "\n",
        "            NSTt=1 - sum((Test-y_test)**2)/sum((y_test-np.mean(y_test))**2)\n",
        "            print(\"NSTt = %.2f\" %NSTt)\n",
        "\n",
        "            rootMeanSquaredErrorTt = sqrt(mean_squared_error(y_test, Test))\n",
        "            print(\"RMSE = %.2f\" % rootMeanSquaredErrorTt)\n",
        "            MAETt=mean_absolute_error(y_test, Test)\n",
        "            print(\"MAE = %.2f\" %  MAETt)\n",
        "\n",
        "            MAPETt=np.mean(np.abs((y_test - Test) / y_test)) * 100\n",
        "            print(\"MAPE = %.2f\" %MAPETt)\n",
        "            fileOfSummary.write(RNN_Method+','+str(e_LR)+','+str(e_decay)+','+str(e_epoch)+','+str(Time_elasped)+','+str(CC_Train[0,1])+','+str(CC_Test[0,1])+','+str(NSTr)+','+str(NSTt)+','+str(rootMeanSquaredErrorTr)+','+str(rootMeanSquaredErrorTt)+','+str(MAETr)+','+str(MAETt)+','+str(MAPETr)+','+str(MAPETt)+'\\n')\n",
        "            del model\n"
      ],
      "execution_count": 45,
      "outputs": [
        {
          "output_type": "stream",
          "name": "stderr",
          "text": [
            "/usr/local/lib/python3.7/dist-packages/keras/optimizer_v2/adam.py:105: UserWarning: The `lr` argument is deprecated, use `learning_rate` instead.\n",
            "  super(Adam, self).__init__(name, **kwargs)\n"
          ]
        },
        {
          "output_type": "stream",
          "name": "stdout",
          "text": [
            " \n",
            " \n",
            "LRs: 0.1\n",
            "Decays: 0.1\n",
            "epochs: 50\n",
            "\n",
            "Time elasped:  0:00:25.791994\n",
            " \n",
            "LRs: 0.1\n",
            "Decays: 0.1\n",
            "epochs: 50\n",
            "Train ==>\n",
            "CC_Train = 0.863\n",
            "NSTr = 0.75\n",
            "RMSE = 0.53\n",
            "MAE = 0.29\n",
            "MAPE = 121.29\n",
            "Test ==>\n",
            "CC_Test = 0.866\n",
            "NSTt = 0.73\n",
            "RMSE = 0.46\n",
            "MAE = 0.31\n",
            "MAPE = 89.00\n"
          ]
        }
      ]
    },
    {
      "cell_type": "code",
      "metadata": {
        "id": "Ij1aeCQJGWYo",
        "colab": {
          "base_uri": "https://localhost:8080/",
          "height": 243
        },
        "outputId": "35850097-f23d-4322-e298-ee005f3f2413"
      },
      "source": [
        "plt.figure(figsize=(4.5, 3))\n",
        "plt.rcParams[\"font.size\"] =10\n",
        "#plt.rcParams[\"font.family\"] = {'serif'}\n",
        "plt.plot(history.history['loss'],'b' ,label=\"Training loss\")\n",
        "plt.plot(history.history['val_loss'],'r', label=\"Testing loss\")\n",
        "#plt.rcParams['font.sans-serif'] = ['DejaVu Sans']\n",
        "plt.legend()\n",
        "plt.margins(0.02,0.02)\n",
        "plt.title(Method, position=(0.45, .87))\n",
        "plt.xlabel('Epoch')\n",
        "plt.ylabel('Loss')\n"
      ],
      "execution_count": 50,
      "outputs": [
        {
          "output_type": "execute_result",
          "data": {
            "text/plain": [
              "Text(0, 0.5, 'Loss')"
            ]
          },
          "metadata": {},
          "execution_count": 50
        },
        {
          "output_type": "display_data",
          "data": {
            "image/png": "[encoded data removed]",
            "text/plain": [
              "<Figure size 324x216 with 1 Axes>"
            ]
          },
          "metadata": {
            "needs_background": "light"
          }
        }
      ]
    },
    {
      "cell_type": "code",
      "metadata": {
        "id": "aumR7XJ-GWaD",
        "colab": {
          "base_uri": "https://localhost:8080/"
        },
        "outputId": "1cf7a42d-a812-437c-a6f4-0ce6c6b6ff89"
      },
      "source": [
        "fileOfSummary.close()\n",
        "print(\"Summary file is written\")\n",
        "print(\"Finished\")"
      ],
      "execution_count": 51,
      "outputs": [
        {
          "output_type": "stream",
          "name": "stdout",
          "text": [
            "Summary file is written\n",
            "Finished\n"
          ]
        }
      ]
    }
  ]
}