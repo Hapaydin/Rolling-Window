{
  "nbformat": 4,
  "nbformat_minor": 0,
  "metadata": {
    "kernelspec": {
      "display_name": "Python 3",
      "language": "python",
      "name": "python3"
    },
    "language_info": {
      "codemirror_mode": {
        "name": "ipython",
        "version": 3
      },
      "file_extension": ".py",
      "mimetype": "text/x-python",
      "name": "python",
      "nbconvert_exporter": "python",
      "pygments_lexer": "ipython3",
      "version": "3.7.4"
    },
    "colab": {
      "name": "Rolling-Window.ipynb",
      "provenance": [],
      "collapsed_sections": []
    }
  },
  "cells": [
    {
      "cell_type": "code",
      "metadata": {
        "id": "GdPwk8ojGWI7"
      },
      "source": [
        "#Bidirectional LSTM for streamflow problem with window regression framing\n",
        "import numpy \n",
        "import pandas as pd\n",
        "from pandas import read_csv\n",
        "import math\n",
        "import keras\n",
        "from keras.models import Sequential\n",
        "from keras.layers import Dense\n",
        "from keras.layers import LSTM\n",
        "from keras.optimizers import Adam\n",
        "from sklearn.metrics import mean_squared_error\n",
        "from keras.layers import Bidirectional,GRU, SimpleRNN\n",
        "from keras.layers import BatchNormalization, Dropout\n",
        "from datetime import datetime\n",
        "from sklearn.metrics import mean_absolute_error\n",
        "from sklearn.metrics import mean_squared_error\n",
        "from math import sqrt\n",
        "import numpy as geek"
      ],
      "execution_count": null,
      "outputs": []
    },
    {
      "cell_type": "code",
      "metadata": {
        "id": "6v9GUOkEGWJN",
        "outputId": "0653736a-a583-44a6-8aab-c7768fd459a8",
        "colab": {
          "base_uri": "https://localhost:8080/",
          "height": 368
        }
      },
      "source": [
        "#RNN_Method = \"E2KFold/E2S3KF-sRNN-10\"\n",
        "RNN_Method = \"/content/gdrive/My Drive/Colab Notebooks/E2KFold/E2S3KF-biLSTM-10\"\n",
        "Var_LRs=[1e-1] #,1e-5,1e-6,1e-7,1e-8,1esimplsimpleRNNsRNN1e-5,1e-7] #,1e-4,1e-5,1e-6,1e-7,1e-8,1e-9]\n",
        "Var_Decays=[1e-1]#,1e-2,1e-3,1e-4,1e-5,1e-7]\n",
        "Var_epochs=[50]#,100,300,500]\n",
        "\n",
        "from google.colab import drive \n",
        "drive.mount('/content/gdrive')\n",
        "\n",
        "Streamflow = pd.read_csv('/content/gdrive/My Drive/Ermenek2S3KF.csv', names = [\"SFt-1\", \"Rain\", \"Temp\", \"Hum\", \"Buh\", \"DMQ\", \"SFt\", \"Order\"])\n",
        "\n",
        "#Streamflow = pd.read_csv('Monthly.csv', names = [\"SFt\", \"Pt\", \"SSH\", \"Tmean\", \"Pmean\", \"Rhmean\", \"Month\"])\n",
        "print(Streamflow.shape)\n",
        "Streamflow.head(9)"
      ],
      "execution_count": null,
      "outputs": [
        {
          "output_type": "stream",
          "text": [
            "Drive already mounted at /content/gdrive; to attempt to forcibly remount, call drive.mount(\"/content/gdrive\", force_remount=True).\n",
            "(1947, 8)\n"
          ],
          "name": "stdout"
        },
        {
          "output_type": "execute_result",
          "data": {
            "text/html": [
              "<div>\n",
              "<style scoped>\n",
              "    .dataframe tbody tr th:only-of-type {\n",
              "        vertical-align: middle;\n",
              "    }\n",
              "\n",
              "    .dataframe tbody tr th {\n",
              "        vertical-align: top;\n",
              "    }\n",
              "\n",
              "    .dataframe thead th {\n",
              "        text-align: right;\n",
              "    }\n",
              "</style>\n",
              "<table border=\"1\" class=\"dataframe\">\n",
              "  <thead>\n",
              "    <tr style=\"text-align: right;\">\n",
              "      <th></th>\n",
              "      <th>SFt-1</th>\n",
              "      <th>Rain</th>\n",
              "      <th>Temp</th>\n",
              "      <th>Hum</th>\n",
              "      <th>Buh</th>\n",
              "      <th>DMQ</th>\n",
              "      <th>SFt</th>\n",
              "      <th>Order</th>\n",
              "    </tr>\n",
              "  </thead>\n",
              "  <tbody>\n",
              "    <tr>\n",
              "      <th>0</th>\n",
              "      <td>0.347490</td>\n",
              "      <td>0.0</td>\n",
              "      <td>2.328266</td>\n",
              "      <td>1.629347</td>\n",
              "      <td>0.001039</td>\n",
              "      <td>0.779187</td>\n",
              "      <td>0.345387</td>\n",
              "      <td>1</td>\n",
              "    </tr>\n",
              "    <tr>\n",
              "      <th>1</th>\n",
              "      <td>0.345471</td>\n",
              "      <td>0.0</td>\n",
              "      <td>2.340392</td>\n",
              "      <td>1.644914</td>\n",
              "      <td>0.001039</td>\n",
              "      <td>0.581809</td>\n",
              "      <td>0.172820</td>\n",
              "      <td>2</td>\n",
              "    </tr>\n",
              "    <tr>\n",
              "      <th>2</th>\n",
              "      <td>0.172862</td>\n",
              "      <td>0.0</td>\n",
              "      <td>2.352518</td>\n",
              "      <td>1.639725</td>\n",
              "      <td>0.001039</td>\n",
              "      <td>0.769656</td>\n",
              "      <td>0.518207</td>\n",
              "      <td>3</td>\n",
              "    </tr>\n",
              "    <tr>\n",
              "      <th>3</th>\n",
              "      <td>0.518332</td>\n",
              "      <td>0.0</td>\n",
              "      <td>2.364645</td>\n",
              "      <td>1.644914</td>\n",
              "      <td>0.001039</td>\n",
              "      <td>1.163618</td>\n",
              "      <td>2.937935</td>\n",
              "      <td>4</td>\n",
              "    </tr>\n",
              "    <tr>\n",
              "      <th>4</th>\n",
              "      <td>2.938647</td>\n",
              "      <td>0.0</td>\n",
              "      <td>2.255507</td>\n",
              "      <td>1.577457</td>\n",
              "      <td>0.001039</td>\n",
              "      <td>0.769259</td>\n",
              "      <td>1.382305</td>\n",
              "      <td>5</td>\n",
              "    </tr>\n",
              "    <tr>\n",
              "      <th>5</th>\n",
              "      <td>1.382640</td>\n",
              "      <td>0.0</td>\n",
              "      <td>2.291886</td>\n",
              "      <td>1.655292</td>\n",
              "      <td>0.001039</td>\n",
              "      <td>0.742651</td>\n",
              "      <td>1.382305</td>\n",
              "      <td>6</td>\n",
              "    </tr>\n",
              "    <tr>\n",
              "      <th>6</th>\n",
              "      <td>1.382640</td>\n",
              "      <td>0.0</td>\n",
              "      <td>2.364645</td>\n",
              "      <td>1.826530</td>\n",
              "      <td>0.001039</td>\n",
              "      <td>1.121124</td>\n",
              "      <td>2.109662</td>\n",
              "      <td>7</td>\n",
              "    </tr>\n",
              "    <tr>\n",
              "      <th>7</th>\n",
              "      <td>2.110173</td>\n",
              "      <td>0.0</td>\n",
              "      <td>2.279760</td>\n",
              "      <td>1.608591</td>\n",
              "      <td>0.001039</td>\n",
              "      <td>0.882046</td>\n",
              "      <td>1.832141</td>\n",
              "      <td>8</td>\n",
              "    </tr>\n",
              "    <tr>\n",
              "      <th>8</th>\n",
              "      <td>1.832585</td>\n",
              "      <td>0.0</td>\n",
              "      <td>2.109991</td>\n",
              "      <td>1.520378</td>\n",
              "      <td>0.001039</td>\n",
              "      <td>0.615566</td>\n",
              "      <td>0.623412</td>\n",
              "      <td>9</td>\n",
              "    </tr>\n",
              "  </tbody>\n",
              "</table>\n",
              "</div>"
            ],
            "text/plain": [
              "      SFt-1  Rain      Temp       Hum       Buh       DMQ       SFt  Order\n",
              "0  0.347490   0.0  2.328266  1.629347  0.001039  0.779187  0.345387      1\n",
              "1  0.345471   0.0  2.340392  1.644914  0.001039  0.581809  0.172820      2\n",
              "2  0.172862   0.0  2.352518  1.639725  0.001039  0.769656  0.518207      3\n",
              "3  0.518332   0.0  2.364645  1.644914  0.001039  1.163618  2.937935      4\n",
              "4  2.938647   0.0  2.255507  1.577457  0.001039  0.769259  1.382305      5\n",
              "5  1.382640   0.0  2.291886  1.655292  0.001039  0.742651  1.382305      6\n",
              "6  1.382640   0.0  2.364645  1.826530  0.001039  1.121124  2.109662      7\n",
              "7  2.110173   0.0  2.279760  1.608591  0.001039  0.882046  1.832141      8\n",
              "8  1.832585   0.0  2.109991  1.520378  0.001039  0.615566  0.623412      9"
            ]
          },
          "metadata": {
            "tags": []
          },
          "execution_count": 35
        }
      ]
    },
    {
      "cell_type": "code",
      "metadata": {
        "id": "zekPYnS2GWMJ"
      },
      "source": [
        "import numpy as np\n",
        "#HA_Speed_Up import matplotlib.pyplot as plt\n",
        "x= Streamflow.drop('SFt',axis=1)\n",
        "x= x.drop('Order',axis=1)\n",
        "Y= Streamflow['SFt']"
      ],
      "execution_count": null,
      "outputs": []
    },
    {
      "cell_type": "code",
      "metadata": {
        "id": "C_Zctz6JGWOQ"
      },
      "source": [
        "X=np.array(x)\n",
        "y=np.array(Y)"
      ],
      "execution_count": null,
      "outputs": []
    },
    {
      "cell_type": "code",
      "metadata": {
        "id": "hiYz_msfGWQA",
        "outputId": "904907d2-51bd-4130-c00d-399421576e95",
        "colab": {
          "base_uri": "https://localhost:8080/",
          "height": 109
        }
      },
      "source": [
        "'''\n",
        "#Tradional method\n",
        "train_size_y = int(len(y) * 0.70)\n",
        "train_size_X = int(len(X) * 0.70)\n",
        "y_train, y_test = y[0:train_size_y], y[train_size_y:len(y)]\n",
        "X_train, X_test = X[0:train_size_X], X[train_size_X:len(X)]\n",
        "\n",
        "print(X_train[0:3], X_test[0:3],y_train[0:3], y_test[0:3] )\n",
        "\n",
        "# reshape input to be [samples, time steps, features]\n",
        "X_train = numpy.reshape(X_train, (X_train.shape[0], 1, X_train.shape[1]))\n",
        "X_test = numpy.reshape(X_test, (X_test.shape[0], 1, X_test.shape[1]))\n",
        "\n",
        "input=X_train[1:]\n",
        "input_shape=X_train.shape[1:]\n",
        "print (input_shape)\n",
        "print (X_train.shape[1:])\n",
        "'''"
      ],
      "execution_count": null,
      "outputs": [
        {
          "output_type": "execute_result",
          "data": {
            "application/vnd.google.colaboratory.intrinsic+json": {
              "type": "string"
            },
            "text/plain": [
              "'\\ntrain_size_y = int(len(y) * 0.70)\\ntrain_size_X = int(len(X) * 0.70)\\ny_train, y_test = y[0:train_size_y], y[train_size_y:len(y)]\\nX_train, X_test = X[0:train_size_X], X[train_size_X:len(X)]\\n\\nprint(X_train[0:3], X_test[0:3],y_train[0:3], y_test[0:3] )\\n\\n# reshape input to be [samples, time steps, features]\\nX_train = numpy.reshape(X_train, (X_train.shape[0], 1, X_train.shape[1]))\\nX_test = numpy.reshape(X_test, (X_test.shape[0], 1, X_test.shape[1]))\\n#HA_Speed_Up print(X_train.shape)\\n#HA_Speed_Up print(X_test.shape)\\n\\ninput=X_train[1:]\\ninput_shape=X_train.shape[1:]\\nprint (input_shape)\\nprint (X_train.shape[1:])\\n'"
            ]
          },
          "metadata": {
            "tags": []
          },
          "execution_count": 38
        }
      ]
    },
    {
      "cell_type": "code",
      "metadata": {
        "id": "j6OG1f6WGWRa",
        "outputId": "658dbafd-543d-4800-9d1d-5ca8288bb69f",
        "colab": {
          "base_uri": "https://localhost:8080/"
        }
      },
      "source": [
        "train_size = 1363 # round(len(X) * 0.70)\n",
        "test_size = 584 #len(X)-train_size\n",
        "print(train_size,test_size)"
      ],
      "execution_count": null,
      "outputs": [
        {
          "output_type": "stream",
          "text": [
            "1363 584\n"
          ],
          "name": "stdout"
        }
      ]
    },
    {
      "cell_type": "code",
      "metadata": {
        "id": "NMjewkDyGWS9",
        "outputId": "ea0c3ee9-cc20-4daa-8e63-c4320fd3e3b0",
        "colab": {
          "base_uri": "https://localhost:8080/"
        }
      },
      "source": [
        "startTime = datetime.now()\n",
        "fileOfSummary = open(RNN_Method+'_Summary_'+str(datetime.now()).replace(\":\", \".\")+'.csv', \"w\")\n",
        "fileOfSummary.write(\"Method,LR,DE,Epoch,RunTime,CCTr,CCTt,NSTr,NSTt,RMSETr,RMSETt,MAETr,MAETt,MAPETr,MAPETt\\n\")"
      ],
      "execution_count": null,
      "outputs": [
        {
          "output_type": "execute_result",
          "data": {
            "text/plain": [
              "87"
            ]
          },
          "metadata": {
            "tags": []
          },
          "execution_count": 40
        }
      ]
    },
    {
      "cell_type": "code",
      "metadata": {
        "id": "dSPdcdWbGWUT",
        "outputId": "1f77c0e3-41cd-46e1-9fc3-edc78fe548f2",
        "colab": {
          "base_uri": "https://localhost:8080/"
        }
      },
      "source": [
        "TrainSet= np.array([[0,1363,0,0],[194,1557,0,0],[388,1751,0,0],[582,1945,0,0],[776,1947,0,192],\n",
        "                    [970,1947,0,386],[1164,1947,0,580],[1358,1947,0,774],[1552,1947,0,968],[1746,1947,0,1162]])\n",
        "\n",
        "TestSet= np.array([[1363,1947,0,0],[1557,1947,0,194],[1751,1947,0,388],[1945,1947,0,582],[0,0,192,776],\n",
        "                   [0,0,386,970],[0,0,580,1164],[0,0,774,1358],[0,0,968,1552],[0,0,1162,1746]])\n",
        "                   \n",
        "print (TrainSet[1][0])          \n",
        "print (TestSet[1][0]) "
      ],
      "execution_count": null,
      "outputs": [
        {
          "output_type": "stream",
          "text": [
            "194\n",
            "1557\n"
          ],
          "name": "stdout"
        }
      ]
    },
    {
      "cell_type": "code",
      "metadata": {
        "id": "y-1W25EWGWVu",
        "outputId": "9af1c25e-117b-41ed-bb30-6a5fa0b91053",
        "colab": {
          "base_uri": "https://localhost:8080/",
          "height": 146
        }
      },
      "source": [
        "'''\n",
        "x1= Streamflow['Order']\n",
        "for e_set in range(10):\n",
        "    X_train=np.concatenate( (x1[TrainSet[e_set][0]: TrainSet[e_set][1]], x1[TrainSet[e_set][2]: TrainSet[e_set][3]]) , axis=0)\n",
        "    X_test=np.concatenate( (x1[TestSet[e_set][0]: TestSet[e_set][1]], x1[TestSet[e_set][2]: TestSet[e_set][3]]) , axis=0)\n",
        "    \n",
        "    Y_train=np.concatenate( (x1[TrainSet[e_set][0]: TrainSet[e_set][1]], x1[TrainSet[e_set][2]: TrainSet[e_set][3]]) , axis=0)\n",
        "    Y_test=np.concatenate( (x1[TestSet[e_set][0]: TestSet[e_set][1]], x1[TestSet[e_set][2]: TestSet[e_set][3]]) , axis=0)\n",
        "\n",
        "    print (e_set)\n",
        "    print (len(X_train), \" - \", X_train[0:5] , \" - \", X_train[-5:])\n",
        "    print (len(X_test), \" - \", X_test[0:5] , \" - \", X_test[-5:])\n",
        "    print (len(Y_train), \" - \", Y_train[0:5] , \" - \", Y_train[-5:])\n",
        "    print (len(Y_test), \" - \", Y_test[0:5] , \" - \", Y_test[-5:])\n",
        "    print (\"\")\n",
        "'''"
      ],
      "execution_count": null,
      "outputs": [
        {
          "output_type": "execute_result",
          "data": {
            "application/vnd.google.colaboratory.intrinsic+json": {
              "type": "string"
            },
            "text/plain": [
              "'\\nx1= Streamflow[\\'Order\\']\\nfor e_set in range(10):\\n    X_train=np.concatenate( (x1[TrainSet[e_set][0]: TrainSet[e_set][1]], x1[TrainSet[e_set][2]: TrainSet[e_set][3]]) , axis=0)\\n    X_test=np.concatenate( (x1[TestSet[e_set][0]: TestSet[e_set][1]], x1[TestSet[e_set][2]: TestSet[e_set][3]]) , axis=0)\\n    \\n    Y_train=np.concatenate( (x1[TrainSet[e_set][0]: TrainSet[e_set][1]], x1[TrainSet[e_set][2]: TrainSet[e_set][3]]) , axis=0)\\n    Y_test=np.concatenate( (x1[TestSet[e_set][0]: TestSet[e_set][1]], x1[TestSet[e_set][2]: TestSet[e_set][3]]) , axis=0)\\n\\n    print (e_set)\\n    print (len(X_train), \" - \", X_train[0:5] , \" - \", X_train[-5:])\\n    print (len(X_test), \" - \", X_test[0:5] , \" - \", X_test[-5:])\\n    print (len(Y_train), \" - \", Y_train[0:5] , \" - \", Y_train[-5:])\\n    print (len(Y_test), \" - \", Y_test[0:5] , \" - \", Y_test[-5:])\\n    print (\"\")\\n'"
            ]
          },
          "metadata": {
            "tags": []
          },
          "execution_count": 42
        }
      ]
    },
    {
      "cell_type": "code",
      "metadata": {
        "id": "sKSbHQRBGWXY",
        "outputId": "7e0900c5-5f22-4b6b-e6ec-e1879bab085f",
        "colab": {
          "base_uri": "https://localhost:8080/",
          "height": 1000
        }
      },
      "source": [
        "for e_LR in Var_LRs:\n",
        "    for e_decay in Var_Decays:\n",
        "\n",
        "        for e_epoch in Var_epochs:\n",
        "\n",
        "            def create_LSTM():\n",
        "                model = Sequential()\n",
        "                #https://keras.io/layers/recurrent/#simplernn\n",
        "                model.add(Bidirectional(LSTM(250, input_shape=(1, 6), activation='relu',return_sequences=True)))\n",
        "                #model.add(Bidirectional(LSTM(200, input_shape=X_train.shape[1:], activation='relu',return_sequences=True)))\n",
        "                model.add(Dropout(0.01))\n",
        "                #model.add(BatchNormalization())\n",
        "\n",
        "                model.add(Bidirectional(LSTM(200, activation='relu')))\n",
        "\n",
        "                model.add(Dropout(0.010))\n",
        "                #model.add(BatchNormalization())\n",
        "\n",
        "                model.add(Dense(100, activation='relu'))\n",
        "                model.add(Dropout(0.010))\n",
        "\n",
        "                model.add(Dense(1, activation='relu'))\n",
        "\n",
        "                return model\n",
        "                #https://stackoverflow.com/questions/42763094/how-to-save-final-model-using-keras\n",
        "            model = create_LSTM()\n",
        "            \n",
        "            optimizer = keras.optimizers.Adam(lr=e_LR, decay=e_decay)\n",
        "            model.compile(optimizer=optimizer,loss='mean_squared_error')\n",
        "\n",
        "            print(\" \")\n",
        "            print(\" \")\n",
        "            print(\"LRs:\",e_LR)\n",
        "            print(\"Decays:\",e_decay)\n",
        "            print(\"epochs:\",e_epoch)\n",
        "\n",
        "\n",
        "            for e_set in range(10):\n",
        "\n",
        "                X_train=np.concatenate( (X[TrainSet[e_set][0]: TrainSet[e_set][1]], X[TrainSet[e_set][2]: TrainSet[e_set][3]]) , axis=0)\n",
        "                X_test=np.concatenate( (X[TestSet[e_set][0]: TestSet[e_set][1]], X[TestSet[e_set][2]: TestSet[e_set][3]]) , axis=0)\n",
        "\n",
        "                y_train=np.concatenate( (y[TrainSet[e_set][0]: TrainSet[e_set][1]], y[TrainSet[e_set][2]: TrainSet[e_set][3]]) , axis=0)\n",
        "                y_test=np.concatenate( (y[TestSet[e_set][0]: TestSet[e_set][1]], y[TestSet[e_set][2]: TestSet[e_set][3]]) , axis=0)\n",
        "\n",
        "                X_train = numpy.reshape(X_train, (X_train.shape[0], 1, X_train.shape[1]))\n",
        "                X_test = numpy.reshape(X_test, (X_test.shape[0], 1, X_test.shape[1]))\n",
        "                #print(X_train.shape)\n",
        "                #print(X_test.shape)\n",
        "                #print(y_train.shape)\n",
        "                #print(y_test.shape)\n",
        "                \n",
        "                history = model.fit(X_train, y_train, epochs=e_epoch, batch_size=512, verbose=0, validation_data=(X_test, y_test))\n",
        "\n",
        "            hist_df = pd.DataFrame(history.history) \n",
        "            Time_elasped= datetime.now() - startTime\n",
        "            print('\\nTime elasped: ', Time_elasped)\n",
        "\n",
        "            Train = model.predict(X_train)\n",
        "            Test = model.predict(X_test)\n",
        "\n",
        "            #scores = model.evaluate(X_test, Test, verbose=0)\n",
        "            #print('accuracy:', scores*100)\n",
        "            \n",
        "            FileName=RNN_Method+'-LR'+str(e_LR)+'-DE'+str(e_decay)+'-'+str(e_epoch)\n",
        "            np.savetxt(FileName+'_Train.csv', Train)\n",
        "            np.savetxt(FileName+'_Test.csv', Test)\n",
        "            #with open(FileName+'_History.csv', mode='w') as f:\n",
        "            #    hist_df.to_csv(f)\n",
        "\n",
        "            #model.save(FileName+'_Model.h5')\n",
        "            Train = geek.asarray(Train)# np.loadtxt(FileName+'_Train.csv')\n",
        "            Test = geek.asarray(Test)#np.loadtxt(FileName+'_Test.csv')\n",
        "\n",
        "            Train = Train.reshape(Train.shape[0])\n",
        "            Test = Test.reshape(Test.shape[0])\n",
        "\n",
        "            print(\" \")\n",
        "            print(\"LRs:\",e_LR)\n",
        "            print(\"Decays:\",e_decay)\n",
        "            print(\"epochs:\",e_epoch)\n",
        "            print(\"Train ==>\")\n",
        "            CC_Train=np.corrcoef(y_train,Train)\n",
        "            print(\"CC_Train = %.3f\" %CC_Train[0,1])\n",
        "\n",
        "            NSTr=1 - sum((Train-y_train)**2)/sum((y_train-np.mean(y_train))**2)\n",
        "            print(\"NSTr = %.2f\" %NSTr)\n",
        "\n",
        "            rootMeanSquaredErrorTr = sqrt(mean_squared_error(y_train, Train))\n",
        "            print(\"RMSE = %.2f\" % rootMeanSquaredErrorTr)\n",
        "            MAETr=mean_absolute_error(y_train, Train)\n",
        "            print(\"MAE = %.2f\" %  MAETr)\n",
        "\n",
        "            MAPETr=np.mean(np.abs((y_train - Train) / y_train)) * 100\n",
        "            print(\"MAPE = %.2f\" %MAPETr)\n",
        "\n",
        "            print(\"Test ==>\")\n",
        "            CC_Test=np.corrcoef(y_test,Test)\n",
        "            print(\"CC_Test = %.3f\" %CC_Test[0,1])\n",
        "\n",
        "            NSTt=1 - sum((Test-y_test)**2)/sum((y_test-np.mean(y_test))**2)\n",
        "            print(\"NSTt = %.2f\" %NSTt)\n",
        "\n",
        "            rootMeanSquaredErrorTt = sqrt(mean_squared_error(y_test, Test))\n",
        "            print(\"RMSE = %.2f\" % rootMeanSquaredErrorTt)\n",
        "            MAETt=mean_absolute_error(y_test, Test)\n",
        "            print(\"MAE = %.2f\" %  MAETt)\n",
        "\n",
        "            MAPETt=np.mean(np.abs((y_test - Test) / y_test)) * 100\n",
        "            print(\"MAPE = %.2f\" %MAPETt)\n",
        "            fileOfSummary.write(RNN_Method+','+str(e_LR)+','+str(e_decay)+','+str(e_epoch)+','+str(Time_elasped)+','+str(CC_Train[0,1])+','+str(CC_Test[0,1])+','+str(NSTr)+','+str(NSTt)+','+str(rootMeanSquaredErrorTr)+','+str(rootMeanSquaredErrorTt)+','+str(MAETr)+','+str(MAETt)+','+str(MAPETr)+','+str(MAPETt)+'\\n')\n",
        "            del model\n"
      ],
      "execution_count": null,
      "outputs": [
        {
          "output_type": "stream",
          "text": [
            " \n",
            " \n",
            "LRs: 0.1\n",
            "Decays: 0.1\n",
            "epochs: 50\n",
            "\n",
            "Time elasped:  0:03:24.867560\n",
            " \n",
            "LRs: 0.1\n",
            "Decays: 0.1\n",
            "epochs: 50\n",
            "Train ==>\n",
            "CC_Train = nan\n",
            "NSTr = -0.66\n",
            "RMSE = 1.38\n",
            "MAE = 0.87\n",
            "MAPE = 100.00\n",
            "Test ==>\n",
            "CC_Test = nan\n",
            "NSTt = -0.92\n",
            "RMSE = 1.13\n",
            "MAE = 0.78\n",
            "MAPE = 100.00\n",
            " \n",
            " \n",
            "LRs: 0.1\n",
            "Decays: 0.1\n",
            "epochs: 100\n"
          ],
          "name": "stdout"
        },
        {
          "output_type": "stream",
          "text": [
            "/usr/local/lib/python3.6/dist-packages/numpy/lib/function_base.py:2534: RuntimeWarning: invalid value encountered in true_divide\n",
            "  c /= stddev[:, None]\n",
            "/usr/local/lib/python3.6/dist-packages/numpy/lib/function_base.py:2535: RuntimeWarning: invalid value encountered in true_divide\n",
            "  c /= stddev[None, :]\n",
            "/usr/local/lib/python3.6/dist-packages/numpy/lib/function_base.py:2534: RuntimeWarning: invalid value encountered in true_divide\n",
            "  c /= stddev[:, None]\n",
            "/usr/local/lib/python3.6/dist-packages/numpy/lib/function_base.py:2535: RuntimeWarning: invalid value encountered in true_divide\n",
            "  c /= stddev[None, :]\n"
          ],
          "name": "stderr"
        },
        {
          "output_type": "stream",
          "text": [
            "\n",
            "Time elasped:  0:10:15.052535\n",
            " \n",
            "LRs: 0.1\n",
            "Decays: 0.1\n",
            "epochs: 100\n",
            "Train ==>\n",
            "CC_Train = nan\n",
            "NSTr = -0.66\n",
            "RMSE = 1.38\n",
            "MAE = 0.87\n",
            "MAPE = 100.00\n",
            "Test ==>\n",
            "CC_Test = nan\n",
            "NSTt = -0.92\n",
            "RMSE = 1.13\n",
            "MAE = 0.78\n",
            "MAPE = 100.00\n",
            " \n",
            " \n",
            "LRs: 0.1\n",
            "Decays: 0.1\n",
            "epochs: 300\n"
          ],
          "name": "stdout"
        },
        {
          "output_type": "stream",
          "text": [
            "/usr/local/lib/python3.6/dist-packages/numpy/lib/function_base.py:2534: RuntimeWarning: invalid value encountered in true_divide\n",
            "  c /= stddev[:, None]\n",
            "/usr/local/lib/python3.6/dist-packages/numpy/lib/function_base.py:2535: RuntimeWarning: invalid value encountered in true_divide\n",
            "  c /= stddev[None, :]\n",
            "/usr/local/lib/python3.6/dist-packages/numpy/lib/function_base.py:2534: RuntimeWarning: invalid value encountered in true_divide\n",
            "  c /= stddev[:, None]\n",
            "/usr/local/lib/python3.6/dist-packages/numpy/lib/function_base.py:2535: RuntimeWarning: invalid value encountered in true_divide\n",
            "  c /= stddev[None, :]\n"
          ],
          "name": "stderr"
        },
        {
          "output_type": "stream",
          "text": [
            "\n",
            "Time elasped:  0:30:32.644604\n",
            " \n",
            "LRs: 0.1\n",
            "Decays: 0.1\n",
            "epochs: 300\n",
            "Train ==>\n",
            "CC_Train = nan\n",
            "NSTr = -0.66\n",
            "RMSE = 1.38\n",
            "MAE = 0.87\n",
            "MAPE = 100.00\n",
            "Test ==>\n",
            "CC_Test = nan\n",
            "NSTt = -0.92\n",
            "RMSE = 1.13\n",
            "MAE = 0.78\n",
            "MAPE = 100.00\n",
            " \n",
            " \n",
            "LRs: 0.1\n",
            "Decays: 0.1\n",
            "epochs: 500\n"
          ],
          "name": "stdout"
        },
        {
          "output_type": "stream",
          "text": [
            "/usr/local/lib/python3.6/dist-packages/numpy/lib/function_base.py:2534: RuntimeWarning: invalid value encountered in true_divide\n",
            "  c /= stddev[:, None]\n",
            "/usr/local/lib/python3.6/dist-packages/numpy/lib/function_base.py:2535: RuntimeWarning: invalid value encountered in true_divide\n",
            "  c /= stddev[None, :]\n",
            "/usr/local/lib/python3.6/dist-packages/numpy/lib/function_base.py:2534: RuntimeWarning: invalid value encountered in true_divide\n",
            "  c /= stddev[:, None]\n",
            "/usr/local/lib/python3.6/dist-packages/numpy/lib/function_base.py:2535: RuntimeWarning: invalid value encountered in true_divide\n",
            "  c /= stddev[None, :]\n"
          ],
          "name": "stderr"
        },
        {
          "output_type": "stream",
          "text": [
            "\n",
            "Time elasped:  1:05:12.309880\n",
            " \n",
            "LRs: 0.1\n",
            "Decays: 0.1\n",
            "epochs: 500\n",
            "Train ==>\n",
            "CC_Train = 0.942\n",
            "NSTr = 0.89\n",
            "RMSE = 0.36\n",
            "MAE = 0.23\n",
            "MAPE = 83.50\n",
            "Test ==>\n",
            "CC_Test = 0.903\n",
            "NSTt = 0.81\n",
            "RMSE = 0.35\n",
            "MAE = 0.24\n",
            "MAPE = 148.75\n",
            " \n",
            " \n",
            "LRs: 0.1\n",
            "Decays: 0.01\n",
            "epochs: 50\n",
            "\n",
            "Time elasped:  1:08:50.251626\n",
            " \n",
            "LRs: 0.1\n",
            "Decays: 0.01\n",
            "epochs: 50\n",
            "Train ==>\n",
            "CC_Train = 0.905\n",
            "NSTr = 0.81\n",
            "RMSE = 0.46\n",
            "MAE = 0.26\n",
            "MAPE = 83.75\n",
            "Test ==>\n",
            "CC_Test = 0.884\n",
            "NSTt = 0.78\n",
            "RMSE = 0.38\n",
            "MAE = 0.25\n",
            "MAPE = 132.52\n",
            " \n",
            " \n",
            "LRs: 0.1\n",
            "Decays: 0.01\n",
            "epochs: 100\n",
            "\n",
            "Time elasped:  1:15:55.156785\n",
            " \n",
            "LRs: 0.1\n",
            "Decays: 0.01\n",
            "epochs: 100\n",
            "Train ==>\n",
            "CC_Train = nan\n",
            "NSTr = -0.66\n",
            "RMSE = 1.38\n",
            "MAE = 0.87\n",
            "MAPE = 100.00\n",
            "Test ==>\n",
            "CC_Test = nan\n",
            "NSTt = -0.92\n",
            "RMSE = 1.13\n",
            "MAE = 0.78\n",
            "MAPE = 100.00\n",
            " \n",
            " \n",
            "LRs: 0.1\n",
            "Decays: 0.01\n",
            "epochs: 300\n"
          ],
          "name": "stdout"
        },
        {
          "output_type": "stream",
          "text": [
            "/usr/local/lib/python3.6/dist-packages/numpy/lib/function_base.py:2534: RuntimeWarning: invalid value encountered in true_divide\n",
            "  c /= stddev[:, None]\n",
            "/usr/local/lib/python3.6/dist-packages/numpy/lib/function_base.py:2535: RuntimeWarning: invalid value encountered in true_divide\n",
            "  c /= stddev[None, :]\n",
            "/usr/local/lib/python3.6/dist-packages/numpy/lib/function_base.py:2534: RuntimeWarning: invalid value encountered in true_divide\n",
            "  c /= stddev[:, None]\n",
            "/usr/local/lib/python3.6/dist-packages/numpy/lib/function_base.py:2535: RuntimeWarning: invalid value encountered in true_divide\n",
            "  c /= stddev[None, :]\n"
          ],
          "name": "stderr"
        },
        {
          "output_type": "stream",
          "text": [
            "\n",
            "Time elasped:  1:36:25.436005\n",
            " \n",
            "LRs: 0.1\n",
            "Decays: 0.01\n",
            "epochs: 300\n",
            "Train ==>\n",
            "CC_Train = nan\n",
            "NSTr = -0.66\n",
            "RMSE = 1.38\n",
            "MAE = 0.87\n",
            "MAPE = 100.00\n",
            "Test ==>\n",
            "CC_Test = nan\n",
            "NSTt = -0.92\n",
            "RMSE = 1.13\n",
            "MAE = 0.78\n",
            "MAPE = 100.00\n",
            " \n",
            " \n",
            "LRs: 0.1\n",
            "Decays: 0.01\n",
            "epochs: 500\n"
          ],
          "name": "stdout"
        },
        {
          "output_type": "stream",
          "text": [
            "/usr/local/lib/python3.6/dist-packages/numpy/lib/function_base.py:2534: RuntimeWarning: invalid value encountered in true_divide\n",
            "  c /= stddev[:, None]\n",
            "/usr/local/lib/python3.6/dist-packages/numpy/lib/function_base.py:2535: RuntimeWarning: invalid value encountered in true_divide\n",
            "  c /= stddev[None, :]\n",
            "/usr/local/lib/python3.6/dist-packages/numpy/lib/function_base.py:2534: RuntimeWarning: invalid value encountered in true_divide\n",
            "  c /= stddev[:, None]\n",
            "/usr/local/lib/python3.6/dist-packages/numpy/lib/function_base.py:2535: RuntimeWarning: invalid value encountered in true_divide\n",
            "  c /= stddev[None, :]\n"
          ],
          "name": "stderr"
        },
        {
          "output_type": "stream",
          "text": [
            "\n",
            "Time elasped:  2:10:00.067354\n",
            " \n",
            "LRs: 0.1\n",
            "Decays: 0.01\n",
            "epochs: 500\n",
            "Train ==>\n",
            "CC_Train = nan\n",
            "NSTr = -0.66\n",
            "RMSE = 1.38\n",
            "MAE = 0.87\n",
            "MAPE = 100.00\n",
            "Test ==>\n",
            "CC_Test = nan\n",
            "NSTt = -0.92\n",
            "RMSE = 1.13\n",
            "MAE = 0.78\n",
            "MAPE = 100.00\n",
            " \n",
            " \n",
            "LRs: 0.1\n",
            "Decays: 0.001\n",
            "epochs: 50\n"
          ],
          "name": "stdout"
        },
        {
          "output_type": "stream",
          "text": [
            "/usr/local/lib/python3.6/dist-packages/numpy/lib/function_base.py:2534: RuntimeWarning: invalid value encountered in true_divide\n",
            "  c /= stddev[:, None]\n",
            "/usr/local/lib/python3.6/dist-packages/numpy/lib/function_base.py:2535: RuntimeWarning: invalid value encountered in true_divide\n",
            "  c /= stddev[None, :]\n",
            "/usr/local/lib/python3.6/dist-packages/numpy/lib/function_base.py:2534: RuntimeWarning: invalid value encountered in true_divide\n",
            "  c /= stddev[:, None]\n",
            "/usr/local/lib/python3.6/dist-packages/numpy/lib/function_base.py:2535: RuntimeWarning: invalid value encountered in true_divide\n",
            "  c /= stddev[None, :]\n"
          ],
          "name": "stderr"
        },
        {
          "output_type": "stream",
          "text": [
            "\n",
            "Time elasped:  2:13:25.995773\n",
            " \n",
            "LRs: 0.1\n",
            "Decays: 0.001\n",
            "epochs: 50\n",
            "Train ==>\n",
            "CC_Train = 0.945\n",
            "NSTr = 0.89\n",
            "RMSE = 0.35\n",
            "MAE = 0.22\n",
            "MAPE = 74.46\n",
            "Test ==>\n",
            "CC_Test = 0.841\n",
            "NSTt = 0.70\n",
            "RMSE = 0.44\n",
            "MAE = 0.29\n",
            "MAPE = 129.29\n",
            " \n",
            " \n",
            "LRs: 0.1\n",
            "Decays: 0.001\n",
            "epochs: 100\n",
            "\n",
            "Time elasped:  2:20:12.793998\n",
            " \n",
            "LRs: 0.1\n",
            "Decays: 0.001\n",
            "epochs: 100\n",
            "Train ==>\n",
            "CC_Train = nan\n",
            "NSTr = -0.66\n",
            "RMSE = 1.38\n",
            "MAE = 0.87\n",
            "MAPE = 100.00\n",
            "Test ==>\n",
            "CC_Test = nan\n",
            "NSTt = -0.92\n",
            "RMSE = 1.13\n",
            "MAE = 0.78\n",
            "MAPE = 100.00\n",
            " \n",
            " \n",
            "LRs: 0.1\n",
            "Decays: 0.001\n",
            "epochs: 300\n"
          ],
          "name": "stdout"
        },
        {
          "output_type": "stream",
          "text": [
            "/usr/local/lib/python3.6/dist-packages/numpy/lib/function_base.py:2534: RuntimeWarning: invalid value encountered in true_divide\n",
            "  c /= stddev[:, None]\n",
            "/usr/local/lib/python3.6/dist-packages/numpy/lib/function_base.py:2535: RuntimeWarning: invalid value encountered in true_divide\n",
            "  c /= stddev[None, :]\n",
            "/usr/local/lib/python3.6/dist-packages/numpy/lib/function_base.py:2534: RuntimeWarning: invalid value encountered in true_divide\n",
            "  c /= stddev[:, None]\n",
            "/usr/local/lib/python3.6/dist-packages/numpy/lib/function_base.py:2535: RuntimeWarning: invalid value encountered in true_divide\n",
            "  c /= stddev[None, :]\n"
          ],
          "name": "stderr"
        },
        {
          "output_type": "stream",
          "text": [
            "\n",
            "Time elasped:  2:41:04.510945\n",
            " \n",
            "LRs: 0.1\n",
            "Decays: 0.001\n",
            "epochs: 300\n",
            "Train ==>\n",
            "CC_Train = nan\n",
            "NSTr = -0.66\n",
            "RMSE = 1.38\n",
            "MAE = 0.87\n",
            "MAPE = 100.00\n",
            "Test ==>\n",
            "CC_Test = nan\n",
            "NSTt = -0.92\n",
            "RMSE = 1.13\n",
            "MAE = 0.78\n",
            "MAPE = 100.00\n",
            " \n",
            " \n",
            "LRs: 0.1\n",
            "Decays: 0.001\n",
            "epochs: 500\n"
          ],
          "name": "stdout"
        },
        {
          "output_type": "stream",
          "text": [
            "/usr/local/lib/python3.6/dist-packages/numpy/lib/function_base.py:2534: RuntimeWarning: invalid value encountered in true_divide\n",
            "  c /= stddev[:, None]\n",
            "/usr/local/lib/python3.6/dist-packages/numpy/lib/function_base.py:2535: RuntimeWarning: invalid value encountered in true_divide\n",
            "  c /= stddev[None, :]\n",
            "/usr/local/lib/python3.6/dist-packages/numpy/lib/function_base.py:2534: RuntimeWarning: invalid value encountered in true_divide\n",
            "  c /= stddev[:, None]\n",
            "/usr/local/lib/python3.6/dist-packages/numpy/lib/function_base.py:2535: RuntimeWarning: invalid value encountered in true_divide\n",
            "  c /= stddev[None, :]\n"
          ],
          "name": "stderr"
        },
        {
          "output_type": "stream",
          "text": [
            "\n",
            "Time elasped:  3:15:14.916451\n",
            " \n",
            "LRs: 0.1\n",
            "Decays: 0.001\n",
            "epochs: 500\n",
            "Train ==>\n",
            "CC_Train = 0.964\n",
            "NSTr = 0.93\n",
            "RMSE = 0.29\n",
            "MAE = 0.20\n",
            "MAPE = 83.75\n",
            "Test ==>\n",
            "CC_Test = 0.867\n",
            "NSTt = 0.74\n",
            "RMSE = 0.42\n",
            "MAE = 0.28\n",
            "MAPE = 171.70\n",
            " \n",
            " \n",
            "LRs: 0.1\n",
            "Decays: 0.0001\n",
            "epochs: 50\n",
            "\n",
            "Time elasped:  3:18:42.533233\n",
            " \n",
            "LRs: 0.1\n",
            "Decays: 0.0001\n",
            "epochs: 50\n",
            "Train ==>\n",
            "CC_Train = 0.887\n",
            "NSTr = 0.79\n",
            "RMSE = 0.49\n",
            "MAE = 0.29\n",
            "MAPE = 105.89\n",
            "Test ==>\n",
            "CC_Test = 0.857\n",
            "NSTt = 0.72\n",
            "RMSE = 0.43\n",
            "MAE = 0.32\n",
            "MAPE = 245.94\n",
            " \n",
            " \n",
            "LRs: 0.1\n",
            "Decays: 0.0001\n",
            "epochs: 100\n",
            "\n",
            "Time elasped:  3:25:31.058817\n",
            " \n",
            "LRs: 0.1\n",
            "Decays: 0.0001\n",
            "epochs: 100\n",
            "Train ==>\n",
            "CC_Train = 0.908\n",
            "NSTr = 0.80\n",
            "RMSE = 0.48\n",
            "MAE = 0.28\n",
            "MAPE = 74.31\n",
            "Test ==>\n",
            "CC_Test = 0.846\n",
            "NSTt = 0.68\n",
            "RMSE = 0.46\n",
            "MAE = 0.32\n",
            "MAPE = 147.12\n",
            " \n",
            " \n",
            "LRs: 0.1\n",
            "Decays: 0.0001\n",
            "epochs: 300\n",
            "\n",
            "Time elasped:  3:45:44.684840\n",
            " \n",
            "LRs: 0.1\n",
            "Decays: 0.0001\n",
            "epochs: 300\n",
            "Train ==>\n",
            "CC_Train = nan\n",
            "NSTr = -0.66\n",
            "RMSE = 1.38\n",
            "MAE = 0.87\n",
            "MAPE = 100.00\n",
            "Test ==>\n",
            "CC_Test = nan\n",
            "NSTt = -0.92\n",
            "RMSE = 1.13\n",
            "MAE = 0.78\n",
            "MAPE = 100.00\n",
            " \n",
            " \n",
            "LRs: 0.1\n",
            "Decays: 0.0001\n",
            "epochs: 500\n"
          ],
          "name": "stdout"
        },
        {
          "output_type": "stream",
          "text": [
            "/usr/local/lib/python3.6/dist-packages/numpy/lib/function_base.py:2534: RuntimeWarning: invalid value encountered in true_divide\n",
            "  c /= stddev[:, None]\n",
            "/usr/local/lib/python3.6/dist-packages/numpy/lib/function_base.py:2535: RuntimeWarning: invalid value encountered in true_divide\n",
            "  c /= stddev[None, :]\n",
            "/usr/local/lib/python3.6/dist-packages/numpy/lib/function_base.py:2534: RuntimeWarning: invalid value encountered in true_divide\n",
            "  c /= stddev[:, None]\n",
            "/usr/local/lib/python3.6/dist-packages/numpy/lib/function_base.py:2535: RuntimeWarning: invalid value encountered in true_divide\n",
            "  c /= stddev[None, :]\n"
          ],
          "name": "stderr"
        },
        {
          "output_type": "stream",
          "text": [
            "\n",
            "Time elasped:  4:19:44.186362\n",
            " \n",
            "LRs: 0.1\n",
            "Decays: 0.0001\n",
            "epochs: 500\n",
            "Train ==>\n",
            "CC_Train = nan\n",
            "NSTr = -0.66\n",
            "RMSE = 1.38\n",
            "MAE = 0.87\n",
            "MAPE = 100.00\n",
            "Test ==>\n",
            "CC_Test = nan\n",
            "NSTt = -0.92\n",
            "RMSE = 1.13\n",
            "MAE = 0.78\n",
            "MAPE = 100.00\n",
            " \n",
            " \n",
            "LRs: 0.1\n",
            "Decays: 1e-05\n",
            "epochs: 50\n"
          ],
          "name": "stdout"
        },
        {
          "output_type": "stream",
          "text": [
            "/usr/local/lib/python3.6/dist-packages/numpy/lib/function_base.py:2534: RuntimeWarning: invalid value encountered in true_divide\n",
            "  c /= stddev[:, None]\n",
            "/usr/local/lib/python3.6/dist-packages/numpy/lib/function_base.py:2535: RuntimeWarning: invalid value encountered in true_divide\n",
            "  c /= stddev[None, :]\n",
            "/usr/local/lib/python3.6/dist-packages/numpy/lib/function_base.py:2534: RuntimeWarning: invalid value encountered in true_divide\n",
            "  c /= stddev[:, None]\n",
            "/usr/local/lib/python3.6/dist-packages/numpy/lib/function_base.py:2535: RuntimeWarning: invalid value encountered in true_divide\n",
            "  c /= stddev[None, :]\n"
          ],
          "name": "stderr"
        },
        {
          "output_type": "stream",
          "text": [
            "\n",
            "Time elasped:  4:23:15.154555\n",
            " \n",
            "LRs: 0.1\n",
            "Decays: 1e-05\n",
            "epochs: 50\n",
            "Train ==>\n",
            "CC_Train = nan\n",
            "NSTr = -0.66\n",
            "RMSE = 1.38\n",
            "MAE = 0.87\n",
            "MAPE = 100.00\n",
            "Test ==>\n",
            "CC_Test = nan\n",
            "NSTt = -0.92\n",
            "RMSE = 1.13\n",
            "MAE = 0.78\n",
            "MAPE = 100.00\n",
            " \n",
            " \n",
            "LRs: 0.1\n",
            "Decays: 1e-05\n",
            "epochs: 100\n"
          ],
          "name": "stdout"
        },
        {
          "output_type": "stream",
          "text": [
            "/usr/local/lib/python3.6/dist-packages/numpy/lib/function_base.py:2534: RuntimeWarning: invalid value encountered in true_divide\n",
            "  c /= stddev[:, None]\n",
            "/usr/local/lib/python3.6/dist-packages/numpy/lib/function_base.py:2535: RuntimeWarning: invalid value encountered in true_divide\n",
            "  c /= stddev[None, :]\n",
            "/usr/local/lib/python3.6/dist-packages/numpy/lib/function_base.py:2534: RuntimeWarning: invalid value encountered in true_divide\n",
            "  c /= stddev[:, None]\n",
            "/usr/local/lib/python3.6/dist-packages/numpy/lib/function_base.py:2535: RuntimeWarning: invalid value encountered in true_divide\n",
            "  c /= stddev[None, :]\n"
          ],
          "name": "stderr"
        },
        {
          "output_type": "stream",
          "text": [
            "\n",
            "Time elasped:  4:30:11.986859\n",
            " \n",
            "LRs: 0.1\n",
            "Decays: 1e-05\n",
            "epochs: 100\n",
            "Train ==>\n",
            "CC_Train = nan\n",
            "NSTr = -0.66\n",
            "RMSE = 1.38\n",
            "MAE = 0.87\n",
            "MAPE = 100.00\n",
            "Test ==>\n",
            "CC_Test = nan\n",
            "NSTt = -0.92\n",
            "RMSE = 1.13\n",
            "MAE = 0.78\n",
            "MAPE = 100.00\n",
            " \n",
            " \n",
            "LRs: 0.1\n",
            "Decays: 1e-05\n",
            "epochs: 300\n"
          ],
          "name": "stdout"
        },
        {
          "output_type": "stream",
          "text": [
            "/usr/local/lib/python3.6/dist-packages/numpy/lib/function_base.py:2534: RuntimeWarning: invalid value encountered in true_divide\n",
            "  c /= stddev[:, None]\n",
            "/usr/local/lib/python3.6/dist-packages/numpy/lib/function_base.py:2535: RuntimeWarning: invalid value encountered in true_divide\n",
            "  c /= stddev[None, :]\n",
            "/usr/local/lib/python3.6/dist-packages/numpy/lib/function_base.py:2534: RuntimeWarning: invalid value encountered in true_divide\n",
            "  c /= stddev[:, None]\n",
            "/usr/local/lib/python3.6/dist-packages/numpy/lib/function_base.py:2535: RuntimeWarning: invalid value encountered in true_divide\n",
            "  c /= stddev[None, :]\n"
          ],
          "name": "stderr"
        },
        {
          "output_type": "stream",
          "text": [
            "\n",
            "Time elasped:  4:51:15.503489\n",
            " \n",
            "LRs: 0.1\n",
            "Decays: 1e-05\n",
            "epochs: 300\n",
            "Train ==>\n",
            "CC_Train = nan\n",
            "NSTr = -0.66\n",
            "RMSE = 1.38\n",
            "MAE = 0.87\n",
            "MAPE = 100.00\n",
            "Test ==>\n",
            "CC_Test = nan\n",
            "NSTt = -0.92\n",
            "RMSE = 1.13\n",
            "MAE = 0.78\n",
            "MAPE = 100.00\n",
            " \n",
            " \n",
            "LRs: 0.1\n",
            "Decays: 1e-05\n",
            "epochs: 500\n"
          ],
          "name": "stdout"
        },
        {
          "output_type": "stream",
          "text": [
            "/usr/local/lib/python3.6/dist-packages/numpy/lib/function_base.py:2534: RuntimeWarning: invalid value encountered in true_divide\n",
            "  c /= stddev[:, None]\n",
            "/usr/local/lib/python3.6/dist-packages/numpy/lib/function_base.py:2535: RuntimeWarning: invalid value encountered in true_divide\n",
            "  c /= stddev[None, :]\n",
            "/usr/local/lib/python3.6/dist-packages/numpy/lib/function_base.py:2534: RuntimeWarning: invalid value encountered in true_divide\n",
            "  c /= stddev[:, None]\n",
            "/usr/local/lib/python3.6/dist-packages/numpy/lib/function_base.py:2535: RuntimeWarning: invalid value encountered in true_divide\n",
            "  c /= stddev[None, :]\n"
          ],
          "name": "stderr"
        },
        {
          "output_type": "error",
          "ename": "KeyboardInterrupt",
          "evalue": "ignored",
          "traceback": [
            "\u001b[0;31m---------------------------------------------------------------------------\u001b[0m",
            "\u001b[0;31mKeyboardInterrupt\u001b[0m                         Traceback (most recent call last)",
            "\u001b[0;32m<ipython-input-43-c01f34969b59>\u001b[0m in \u001b[0;36m<module>\u001b[0;34m()\u001b[0m\n\u001b[1;32m     51\u001b[0m                 \u001b[0;31m#print(y_test.shape)\u001b[0m\u001b[0;34m\u001b[0m\u001b[0;34m\u001b[0m\u001b[0;34m\u001b[0m\u001b[0m\n\u001b[1;32m     52\u001b[0m \u001b[0;34m\u001b[0m\u001b[0m\n\u001b[0;32m---> 53\u001b[0;31m                 \u001b[0mhistory\u001b[0m \u001b[0;34m=\u001b[0m \u001b[0mmodel\u001b[0m\u001b[0;34m.\u001b[0m\u001b[0mfit\u001b[0m\u001b[0;34m(\u001b[0m\u001b[0mX_train\u001b[0m\u001b[0;34m,\u001b[0m \u001b[0my_train\u001b[0m\u001b[0;34m,\u001b[0m \u001b[0mepochs\u001b[0m\u001b[0;34m=\u001b[0m\u001b[0me_epoch\u001b[0m\u001b[0;34m,\u001b[0m \u001b[0mbatch_size\u001b[0m\u001b[0;34m=\u001b[0m\u001b[0;36m512\u001b[0m\u001b[0;34m,\u001b[0m \u001b[0mverbose\u001b[0m\u001b[0;34m=\u001b[0m\u001b[0;36m0\u001b[0m\u001b[0;34m,\u001b[0m \u001b[0mvalidation_data\u001b[0m\u001b[0;34m=\u001b[0m\u001b[0;34m(\u001b[0m\u001b[0mX_test\u001b[0m\u001b[0;34m,\u001b[0m \u001b[0my_test\u001b[0m\u001b[0;34m)\u001b[0m\u001b[0;34m)\u001b[0m\u001b[0;34m\u001b[0m\u001b[0;34m\u001b[0m\u001b[0m\n\u001b[0m\u001b[1;32m     54\u001b[0m \u001b[0;34m\u001b[0m\u001b[0m\n\u001b[1;32m     55\u001b[0m             \u001b[0mhist_df\u001b[0m \u001b[0;34m=\u001b[0m \u001b[0mpd\u001b[0m\u001b[0;34m.\u001b[0m\u001b[0mDataFrame\u001b[0m\u001b[0;34m(\u001b[0m\u001b[0mhistory\u001b[0m\u001b[0;34m.\u001b[0m\u001b[0mhistory\u001b[0m\u001b[0;34m)\u001b[0m\u001b[0;34m\u001b[0m\u001b[0;34m\u001b[0m\u001b[0m\n",
            "\u001b[0;32m/usr/local/lib/python3.6/dist-packages/tensorflow/python/keras/engine/training.py\u001b[0m in \u001b[0;36m_method_wrapper\u001b[0;34m(self, *args, **kwargs)\u001b[0m\n\u001b[1;32m    106\u001b[0m   \u001b[0;32mdef\u001b[0m \u001b[0m_method_wrapper\u001b[0m\u001b[0;34m(\u001b[0m\u001b[0mself\u001b[0m\u001b[0;34m,\u001b[0m \u001b[0;34m*\u001b[0m\u001b[0margs\u001b[0m\u001b[0;34m,\u001b[0m \u001b[0;34m**\u001b[0m\u001b[0mkwargs\u001b[0m\u001b[0;34m)\u001b[0m\u001b[0;34m:\u001b[0m\u001b[0;34m\u001b[0m\u001b[0;34m\u001b[0m\u001b[0m\n\u001b[1;32m    107\u001b[0m     \u001b[0;32mif\u001b[0m \u001b[0;32mnot\u001b[0m \u001b[0mself\u001b[0m\u001b[0;34m.\u001b[0m\u001b[0m_in_multi_worker_mode\u001b[0m\u001b[0;34m(\u001b[0m\u001b[0;34m)\u001b[0m\u001b[0;34m:\u001b[0m  \u001b[0;31m# pylint: disable=protected-access\u001b[0m\u001b[0;34m\u001b[0m\u001b[0;34m\u001b[0m\u001b[0m\n\u001b[0;32m--> 108\u001b[0;31m       \u001b[0;32mreturn\u001b[0m \u001b[0mmethod\u001b[0m\u001b[0;34m(\u001b[0m\u001b[0mself\u001b[0m\u001b[0;34m,\u001b[0m \u001b[0;34m*\u001b[0m\u001b[0margs\u001b[0m\u001b[0;34m,\u001b[0m \u001b[0;34m**\u001b[0m\u001b[0mkwargs\u001b[0m\u001b[0;34m)\u001b[0m\u001b[0;34m\u001b[0m\u001b[0;34m\u001b[0m\u001b[0m\n\u001b[0m\u001b[1;32m    109\u001b[0m \u001b[0;34m\u001b[0m\u001b[0m\n\u001b[1;32m    110\u001b[0m     \u001b[0;31m# Running inside `run_distribute_coordinator` already.\u001b[0m\u001b[0;34m\u001b[0m\u001b[0;34m\u001b[0m\u001b[0;34m\u001b[0m\u001b[0m\n",
            "\u001b[0;32m/usr/local/lib/python3.6/dist-packages/tensorflow/python/keras/engine/training.py\u001b[0m in \u001b[0;36mfit\u001b[0;34m(self, x, y, batch_size, epochs, verbose, callbacks, validation_split, validation_data, shuffle, class_weight, sample_weight, initial_epoch, steps_per_epoch, validation_steps, validation_batch_size, validation_freq, max_queue_size, workers, use_multiprocessing)\u001b[0m\n\u001b[1;32m   1096\u001b[0m                 batch_size=batch_size):\n\u001b[1;32m   1097\u001b[0m               \u001b[0mcallbacks\u001b[0m\u001b[0;34m.\u001b[0m\u001b[0mon_train_batch_begin\u001b[0m\u001b[0;34m(\u001b[0m\u001b[0mstep\u001b[0m\u001b[0;34m)\u001b[0m\u001b[0;34m\u001b[0m\u001b[0;34m\u001b[0m\u001b[0m\n\u001b[0;32m-> 1098\u001b[0;31m               \u001b[0mtmp_logs\u001b[0m \u001b[0;34m=\u001b[0m \u001b[0mtrain_function\u001b[0m\u001b[0;34m(\u001b[0m\u001b[0miterator\u001b[0m\u001b[0;34m)\u001b[0m\u001b[0;34m\u001b[0m\u001b[0;34m\u001b[0m\u001b[0m\n\u001b[0m\u001b[1;32m   1099\u001b[0m               \u001b[0;32mif\u001b[0m \u001b[0mdata_handler\u001b[0m\u001b[0;34m.\u001b[0m\u001b[0mshould_sync\u001b[0m\u001b[0;34m:\u001b[0m\u001b[0;34m\u001b[0m\u001b[0;34m\u001b[0m\u001b[0m\n\u001b[1;32m   1100\u001b[0m                 \u001b[0mcontext\u001b[0m\u001b[0;34m.\u001b[0m\u001b[0masync_wait\u001b[0m\u001b[0;34m(\u001b[0m\u001b[0;34m)\u001b[0m\u001b[0;34m\u001b[0m\u001b[0;34m\u001b[0m\u001b[0m\n",
            "\u001b[0;32m/usr/local/lib/python3.6/dist-packages/tensorflow/python/eager/def_function.py\u001b[0m in \u001b[0;36m__call__\u001b[0;34m(self, *args, **kwds)\u001b[0m\n\u001b[1;32m    778\u001b[0m       \u001b[0;32melse\u001b[0m\u001b[0;34m:\u001b[0m\u001b[0;34m\u001b[0m\u001b[0;34m\u001b[0m\u001b[0m\n\u001b[1;32m    779\u001b[0m         \u001b[0mcompiler\u001b[0m \u001b[0;34m=\u001b[0m \u001b[0;34m\"nonXla\"\u001b[0m\u001b[0;34m\u001b[0m\u001b[0;34m\u001b[0m\u001b[0m\n\u001b[0;32m--> 780\u001b[0;31m         \u001b[0mresult\u001b[0m \u001b[0;34m=\u001b[0m \u001b[0mself\u001b[0m\u001b[0;34m.\u001b[0m\u001b[0m_call\u001b[0m\u001b[0;34m(\u001b[0m\u001b[0;34m*\u001b[0m\u001b[0margs\u001b[0m\u001b[0;34m,\u001b[0m \u001b[0;34m**\u001b[0m\u001b[0mkwds\u001b[0m\u001b[0;34m)\u001b[0m\u001b[0;34m\u001b[0m\u001b[0;34m\u001b[0m\u001b[0m\n\u001b[0m\u001b[1;32m    781\u001b[0m \u001b[0;34m\u001b[0m\u001b[0m\n\u001b[1;32m    782\u001b[0m       \u001b[0mnew_tracing_count\u001b[0m \u001b[0;34m=\u001b[0m \u001b[0mself\u001b[0m\u001b[0;34m.\u001b[0m\u001b[0m_get_tracing_count\u001b[0m\u001b[0;34m(\u001b[0m\u001b[0;34m)\u001b[0m\u001b[0;34m\u001b[0m\u001b[0;34m\u001b[0m\u001b[0m\n",
            "\u001b[0;32m/usr/local/lib/python3.6/dist-packages/tensorflow/python/eager/def_function.py\u001b[0m in \u001b[0;36m_call\u001b[0;34m(self, *args, **kwds)\u001b[0m\n\u001b[1;32m    805\u001b[0m       \u001b[0;31m# In this case we have created variables on the first call, so we run the\u001b[0m\u001b[0;34m\u001b[0m\u001b[0;34m\u001b[0m\u001b[0;34m\u001b[0m\u001b[0m\n\u001b[1;32m    806\u001b[0m       \u001b[0;31m# defunned version which is guaranteed to never create variables.\u001b[0m\u001b[0;34m\u001b[0m\u001b[0;34m\u001b[0m\u001b[0;34m\u001b[0m\u001b[0m\n\u001b[0;32m--> 807\u001b[0;31m       \u001b[0;32mreturn\u001b[0m \u001b[0mself\u001b[0m\u001b[0;34m.\u001b[0m\u001b[0m_stateless_fn\u001b[0m\u001b[0;34m(\u001b[0m\u001b[0;34m*\u001b[0m\u001b[0margs\u001b[0m\u001b[0;34m,\u001b[0m \u001b[0;34m**\u001b[0m\u001b[0mkwds\u001b[0m\u001b[0;34m)\u001b[0m  \u001b[0;31m# pylint: disable=not-callable\u001b[0m\u001b[0;34m\u001b[0m\u001b[0;34m\u001b[0m\u001b[0m\n\u001b[0m\u001b[1;32m    808\u001b[0m     \u001b[0;32melif\u001b[0m \u001b[0mself\u001b[0m\u001b[0;34m.\u001b[0m\u001b[0m_stateful_fn\u001b[0m \u001b[0;32mis\u001b[0m \u001b[0;32mnot\u001b[0m \u001b[0;32mNone\u001b[0m\u001b[0;34m:\u001b[0m\u001b[0;34m\u001b[0m\u001b[0;34m\u001b[0m\u001b[0m\n\u001b[1;32m    809\u001b[0m       \u001b[0;31m# Release the lock early so that multiple threads can perform the call\u001b[0m\u001b[0;34m\u001b[0m\u001b[0;34m\u001b[0m\u001b[0;34m\u001b[0m\u001b[0m\n",
            "\u001b[0;32m/usr/local/lib/python3.6/dist-packages/tensorflow/python/eager/function.py\u001b[0m in \u001b[0;36m__call__\u001b[0;34m(self, *args, **kwargs)\u001b[0m\n\u001b[1;32m   2827\u001b[0m     \u001b[0;32mwith\u001b[0m \u001b[0mself\u001b[0m\u001b[0;34m.\u001b[0m\u001b[0m_lock\u001b[0m\u001b[0;34m:\u001b[0m\u001b[0;34m\u001b[0m\u001b[0;34m\u001b[0m\u001b[0m\n\u001b[1;32m   2828\u001b[0m       \u001b[0mgraph_function\u001b[0m\u001b[0;34m,\u001b[0m \u001b[0margs\u001b[0m\u001b[0;34m,\u001b[0m \u001b[0mkwargs\u001b[0m \u001b[0;34m=\u001b[0m \u001b[0mself\u001b[0m\u001b[0;34m.\u001b[0m\u001b[0m_maybe_define_function\u001b[0m\u001b[0;34m(\u001b[0m\u001b[0margs\u001b[0m\u001b[0;34m,\u001b[0m \u001b[0mkwargs\u001b[0m\u001b[0;34m)\u001b[0m\u001b[0;34m\u001b[0m\u001b[0;34m\u001b[0m\u001b[0m\n\u001b[0;32m-> 2829\u001b[0;31m     \u001b[0;32mreturn\u001b[0m \u001b[0mgraph_function\u001b[0m\u001b[0;34m.\u001b[0m\u001b[0m_filtered_call\u001b[0m\u001b[0;34m(\u001b[0m\u001b[0margs\u001b[0m\u001b[0;34m,\u001b[0m \u001b[0mkwargs\u001b[0m\u001b[0;34m)\u001b[0m  \u001b[0;31m# pylint: disable=protected-access\u001b[0m\u001b[0;34m\u001b[0m\u001b[0;34m\u001b[0m\u001b[0m\n\u001b[0m\u001b[1;32m   2830\u001b[0m \u001b[0;34m\u001b[0m\u001b[0m\n\u001b[1;32m   2831\u001b[0m   \u001b[0;34m@\u001b[0m\u001b[0mproperty\u001b[0m\u001b[0;34m\u001b[0m\u001b[0;34m\u001b[0m\u001b[0m\n",
            "\u001b[0;32m/usr/local/lib/python3.6/dist-packages/tensorflow/python/eager/function.py\u001b[0m in \u001b[0;36m_filtered_call\u001b[0;34m(self, args, kwargs, cancellation_manager)\u001b[0m\n\u001b[1;32m   1846\u001b[0m                            resource_variable_ops.BaseResourceVariable))],\n\u001b[1;32m   1847\u001b[0m         \u001b[0mcaptured_inputs\u001b[0m\u001b[0;34m=\u001b[0m\u001b[0mself\u001b[0m\u001b[0;34m.\u001b[0m\u001b[0mcaptured_inputs\u001b[0m\u001b[0;34m,\u001b[0m\u001b[0;34m\u001b[0m\u001b[0;34m\u001b[0m\u001b[0m\n\u001b[0;32m-> 1848\u001b[0;31m         cancellation_manager=cancellation_manager)\n\u001b[0m\u001b[1;32m   1849\u001b[0m \u001b[0;34m\u001b[0m\u001b[0m\n\u001b[1;32m   1850\u001b[0m   \u001b[0;32mdef\u001b[0m \u001b[0m_call_flat\u001b[0m\u001b[0;34m(\u001b[0m\u001b[0mself\u001b[0m\u001b[0;34m,\u001b[0m \u001b[0margs\u001b[0m\u001b[0;34m,\u001b[0m \u001b[0mcaptured_inputs\u001b[0m\u001b[0;34m,\u001b[0m \u001b[0mcancellation_manager\u001b[0m\u001b[0;34m=\u001b[0m\u001b[0;32mNone\u001b[0m\u001b[0;34m)\u001b[0m\u001b[0;34m:\u001b[0m\u001b[0;34m\u001b[0m\u001b[0;34m\u001b[0m\u001b[0m\n",
            "\u001b[0;32m/usr/local/lib/python3.6/dist-packages/tensorflow/python/eager/function.py\u001b[0m in \u001b[0;36m_call_flat\u001b[0;34m(self, args, captured_inputs, cancellation_manager)\u001b[0m\n\u001b[1;32m   1922\u001b[0m       \u001b[0;31m# No tape is watching; skip to running the function.\u001b[0m\u001b[0;34m\u001b[0m\u001b[0;34m\u001b[0m\u001b[0;34m\u001b[0m\u001b[0m\n\u001b[1;32m   1923\u001b[0m       return self._build_call_outputs(self._inference_function.call(\n\u001b[0;32m-> 1924\u001b[0;31m           ctx, args, cancellation_manager=cancellation_manager))\n\u001b[0m\u001b[1;32m   1925\u001b[0m     forward_backward = self._select_forward_and_backward_functions(\n\u001b[1;32m   1926\u001b[0m         \u001b[0margs\u001b[0m\u001b[0;34m,\u001b[0m\u001b[0;34m\u001b[0m\u001b[0;34m\u001b[0m\u001b[0m\n",
            "\u001b[0;32m/usr/local/lib/python3.6/dist-packages/tensorflow/python/eager/function.py\u001b[0m in \u001b[0;36mcall\u001b[0;34m(self, ctx, args, cancellation_manager)\u001b[0m\n\u001b[1;32m    548\u001b[0m               \u001b[0minputs\u001b[0m\u001b[0;34m=\u001b[0m\u001b[0margs\u001b[0m\u001b[0;34m,\u001b[0m\u001b[0;34m\u001b[0m\u001b[0;34m\u001b[0m\u001b[0m\n\u001b[1;32m    549\u001b[0m               \u001b[0mattrs\u001b[0m\u001b[0;34m=\u001b[0m\u001b[0mattrs\u001b[0m\u001b[0;34m,\u001b[0m\u001b[0;34m\u001b[0m\u001b[0;34m\u001b[0m\u001b[0m\n\u001b[0;32m--> 550\u001b[0;31m               ctx=ctx)\n\u001b[0m\u001b[1;32m    551\u001b[0m         \u001b[0;32melse\u001b[0m\u001b[0;34m:\u001b[0m\u001b[0;34m\u001b[0m\u001b[0;34m\u001b[0m\u001b[0m\n\u001b[1;32m    552\u001b[0m           outputs = execute.execute_with_cancellation(\n",
            "\u001b[0;32m/usr/local/lib/python3.6/dist-packages/tensorflow/python/eager/execute.py\u001b[0m in \u001b[0;36mquick_execute\u001b[0;34m(op_name, num_outputs, inputs, attrs, ctx, name)\u001b[0m\n\u001b[1;32m     58\u001b[0m     \u001b[0mctx\u001b[0m\u001b[0;34m.\u001b[0m\u001b[0mensure_initialized\u001b[0m\u001b[0;34m(\u001b[0m\u001b[0;34m)\u001b[0m\u001b[0;34m\u001b[0m\u001b[0;34m\u001b[0m\u001b[0m\n\u001b[1;32m     59\u001b[0m     tensors = pywrap_tfe.TFE_Py_Execute(ctx._handle, device_name, op_name,\n\u001b[0;32m---> 60\u001b[0;31m                                         inputs, attrs, num_outputs)\n\u001b[0m\u001b[1;32m     61\u001b[0m   \u001b[0;32mexcept\u001b[0m \u001b[0mcore\u001b[0m\u001b[0;34m.\u001b[0m\u001b[0m_NotOkStatusException\u001b[0m \u001b[0;32mas\u001b[0m \u001b[0me\u001b[0m\u001b[0;34m:\u001b[0m\u001b[0;34m\u001b[0m\u001b[0;34m\u001b[0m\u001b[0m\n\u001b[1;32m     62\u001b[0m     \u001b[0;32mif\u001b[0m \u001b[0mname\u001b[0m \u001b[0;32mis\u001b[0m \u001b[0;32mnot\u001b[0m \u001b[0;32mNone\u001b[0m\u001b[0;34m:\u001b[0m\u001b[0;34m\u001b[0m\u001b[0;34m\u001b[0m\u001b[0m\n",
            "\u001b[0;31mKeyboardInterrupt\u001b[0m: "
          ]
        }
      ]
    },
    {
      "cell_type": "code",
      "metadata": {
        "id": "Ij1aeCQJGWYo"
      },
      "source": [
        "plt.figure(figsize=(4.5, 3))\n",
        "plt.rcParams[\"font.size\"] =10\n",
        "#plt.rcParams[\"font.family\"] = {'serif'}\n",
        "plt.plot(history.history['loss'],'b' ,label=\"Training loss\")\n",
        "plt.plot(history.history['val_loss'],'r', label=\"Testing loss\")\n",
        "#plt.rcParams['font.sans-serif'] = ['DejaVu Sans']\n",
        "plt.legend()\n",
        "plt.margins(0.02,0.02)\n",
        "plt.title(Method, position=(0.45, .87))\n",
        "plt.xlabel('Epoch')\n",
        "plt.ylabel('Loss')\n"
      ],
      "execution_count": null,
      "outputs": []
    },
    {
      "cell_type": "code",
      "metadata": {
        "id": "aumR7XJ-GWaD"
      },
      "source": [
        "fileOfSummary.close()\n",
        "print(\"Summary file is written\")\n",
        "print(\"Finished\")"
      ],
      "execution_count": null,
      "outputs": []
    }
  ]
}