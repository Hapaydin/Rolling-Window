{
  "nbformat": 4,
  "nbformat_minor": 0,
  "metadata": {
    "kernelspec": {
      "display_name": "Python 3",
      "language": "python",
      "name": "python3"
    },
    "language_info": {
      "codemirror_mode": {
        "name": "ipython",
        "version": 3
      },
      "file_extension": ".py",
      "mimetype": "text/x-python",
      "name": "python",
      "nbconvert_exporter": "python",
      "pygments_lexer": "ipython3",
      "version": "3.7.3"
    },
    "colab": {
      "name": "Conventional-SearchBest.ipynb",
      "provenance": [],
      "collapsed_sections": []
    }
  },
  "cells": [
    {
      "cell_type": "code",
      "metadata": {
        "id": "jscqKlYMCGP0"
      },
      "source": [
        "#Bidirectional LSTM for streamflow problem with window regression framing\n",
        "import numpy \n",
        "import pandas as pd\n",
        "import matplotlib.pyplot as plt\n",
        "from pandas import read_csv\n",
        "import math\n",
        "import keras\n",
        "from keras.models import Sequential\n",
        "from keras.layers import Dense\n",
        "from keras.layers import LSTM\n",
        "from sklearn.metrics import mean_squared_error\n",
        "from keras.layers import Bidirectional,GRU, SimpleRNN\n",
        "from keras.layers import BatchNormalization, Dropout\n",
        "from keras.layers import Activation"
      ],
      "execution_count": null,
      "outputs": []
    },
    {
      "cell_type": "code",
      "metadata": {
        "id": "Ub9UKwrhCGQN",
        "outputId": "8fa8c80c-ba8c-4aaa-fb99-c528773da26a",
        "colab": {
          "base_uri": "https://localhost:8080/",
          "height": 35
        }
      },
      "source": [
        "RNN_Method = \"/content/gdrive/My Drive/Colab Notebooks/E1\"\n",
        "Var_LRs=[1e-3] #,1e-3,1e-4,1e-5,1e-6,1e-7,1e-8,1e-9] #\n",
        "Var_Decays=[1e-2] #,1e-2,1e-3,1e-4,1e-5,1e-6,1e-7,1e-8,1e-9]\n",
        "Var_epochs=[500]\n",
        "Method=\"ANN\"\n",
        "from google.colab import drive \n",
        "drive.mount('/content/gdrive')\n",
        "\n",
        "Streamflow = pd.read_csv('/content/gdrive/My Drive/Ermenek.csv', skiprows=1, names = [\"SFt-1\", \"SFt-2\", \"SFt-3\", \"SFt-4\", \"SFt-5\", \"SFt-6\", \"SFt-7\",\"SFt\"])\n",
        "\n",
        "#Streamflow = pd.read_csv('Monthly.csv', names = [\"SFt\", \"Pt\", \"SSH\", \"Tmean\", \"Pmean\", \"Rhmean\", \"Month\"])"
      ],
      "execution_count": null,
      "outputs": [
        {
          "output_type": "stream",
          "text": [
            "Drive already mounted at /content/gdrive; to attempt to forcibly remount, call drive.mount(\"/content/gdrive\", force_remount=True).\n"
          ],
          "name": "stdout"
        }
      ]
    },
    {
      "cell_type": "code",
      "metadata": {
        "id": "1-D70yDKCGQ1"
      },
      "source": [
        "import numpy as np\n",
        "x= Streamflow.drop('SFt',axis=1)\n",
        "Y= Streamflow['SFt']"
      ],
      "execution_count": null,
      "outputs": []
    },
    {
      "cell_type": "code",
      "metadata": {
        "id": "CoeRR7kfCGRE"
      },
      "source": [
        "X=np.array(x)\n",
        "y=np.array(Y)"
      ],
      "execution_count": null,
      "outputs": []
    },
    {
      "cell_type": "code",
      "metadata": {
        "id": "MFV99ty1CGRQ"
      },
      "source": [
        "train_size_y = int(len(y) * 0.70)\n",
        "train_size_X = int(len(X) * 0.70)\n",
        "y_train, y_test = y[0:train_size_y], y[train_size_y:len(y)]\n",
        "X_train, X_test = X[0:train_size_X], X[train_size_X:len(X)]"
      ],
      "execution_count": null,
      "outputs": []
    },
    {
      "cell_type": "code",
      "metadata": {
        "id": "BRdhlAULCGRf"
      },
      "source": [
        "#train_size_y = int(len(y) * 0.70)\n",
        "#train_size_X = int(len(X) * 0.70)\n",
        "#y_train, y_test = y[0:train_size_y], y[train_size_y:len(y)]\n",
        "#X_train, X_test = X[0:train_size_X], X[train_size_X:len(X)]\n",
        "#HA_Speed_Up print(X_train.shape)"
      ],
      "execution_count": null,
      "outputs": []
    },
    {
      "cell_type": "code",
      "metadata": {
        "scrolled": true,
        "id": "6MIkqZCxCGRu",
        "outputId": "f8404cd7-6e10-424c-9384-dc233bfb38a8",
        "colab": {
          "base_uri": "https://localhost:8080/",
          "height": 54
        }
      },
      "source": [
        "# reshape input to be [samples, time steps, features]\n",
        "# ANN için alt2 kapalı, RNN için aç\n",
        "#X_train = numpy.reshape(X_train, (X_train.shape[0], 1, X_train.shape[1]))\n",
        "#X_test = numpy.reshape(X_test, (X_test.shape[0], 1, X_test.shape[1]))\n",
        "print(X_train.shape)\n",
        "print(X_test.shape)"
      ],
      "execution_count": null,
      "outputs": [
        {
          "output_type": "stream",
          "text": [
            "(1400, 7)\n",
            "(600, 7)\n"
          ],
          "name": "stdout"
        }
      ]
    },
    {
      "cell_type": "code",
      "metadata": {
        "id": "9X0UPMebCGR-"
      },
      "source": [
        "input=X_train[1:]\n",
        "input_shape=X_train.shape[1:]\n",
        "#HA_Speed_Up print(input_shape)"
      ],
      "execution_count": null,
      "outputs": []
    },
    {
      "cell_type": "code",
      "metadata": {
        "id": "fZJapc37CGSL"
      },
      "source": [
        "from datetime import datetime\n",
        "from sklearn.metrics import mean_absolute_error\n",
        "from sklearn.metrics import mean_squared_error\n",
        "from math import sqrt\n",
        "import numpy as geek"
      ],
      "execution_count": null,
      "outputs": []
    },
    {
      "cell_type": "code",
      "metadata": {
        "id": "HmKNXfHSCGSZ"
      },
      "source": [
        "startTime = datetime.now()\n",
        "#fileOfSummary = open(RNN_Method+'_Summary_'+str(datetime.now()).replace(\":\", \".\")+'.csv', \"w\")\n",
        "#fileOfSummary.write(\"Method,LR,DE,Epoch,RunTime,CCTr,CCTt,NSTr,NSTt,RMSETr,RMSETt,MAETr,MAETt,MAPETr,MAPETt\\n\")"
      ],
      "execution_count": null,
      "outputs": []
    },
    {
      "cell_type": "code",
      "metadata": {
        "id": "hV9udxUiCGSn",
        "outputId": "231f2980-a984-43fa-a155-be2225dddb75",
        "colab": {
          "base_uri": "https://localhost:8080/",
          "height": 439
        }
      },
      "source": [
        "for e_LR in Var_LRs:\n",
        "    for e_decay in Var_Decays:\n",
        "\n",
        "        for e_epoch in Var_epochs:\n",
        "            \n",
        "            def create_LSTM():\n",
        "                '''\n",
        "                model = Sequential()\n",
        "                #https://keras.io/layers/recurrent/#simplernn\n",
        "                #model.add(SimpleRNN(200, input_shape=X_train.shape[1:], activation='relu',return_sequences=True))\n",
        "                model.add(Bidirectional(LSTM(200, input_shape=X_train.shape[1:], activation='relu',return_sequences=True)))\n",
        "                model.add(Dropout(0.1))\n",
        "                #model.add(BatchNormalization())\n",
        "                model.add(Bidirectional(LSTM(150, activation='relu')))\n",
        "                #model.add(SimpleRNN(150, activation='relu'))\n",
        "\n",
        "                model.add(Dropout(0.10))\n",
        "                #model.add(BatchNormalization())\n",
        "\n",
        "                model.add(Dense(100, activation='relu'))\n",
        "                model.add(Dropout(0.10))\n",
        "\n",
        "                model.add(Dense(1, activation='relu'))\n",
        "                '''\n",
        "                model = Sequential()\n",
        "                model.add(Dense(units=200, input_shape=X_train.shape[1:]))\n",
        "                #model.add(BatchNormalization())\n",
        "                model.add(Activation(activation='relu'))\n",
        "                model.add(Dropout(0.1))\n",
        " \n",
        "                model.add(Dense(100, activation='relu'))\n",
        "                #model.add(BatchNormalization())\n",
        "                #model.add(Dropout(0.1))\n",
        "                \n",
        "                model.add(Dense(1, activation='relu'))\n",
        "\n",
        "                return model\n",
        "                #https://stackoverflow.com/questions/42763094/how-to-save-final-model-using-keras\n",
        "            model = create_LSTM()\n",
        "            \n",
        "            optimizer = keras.optimizers.adam(lr=e_LR, decay=e_decay)\n",
        "            model.compile(optimizer=optimizer,loss='mean_squared_error')\n",
        "        \n",
        "            print(\" \")\n",
        "            print(\" \")\n",
        "            print(\"LRs:\",e_LR)\n",
        "            print(\"Decays:\",e_decay)\n",
        "            print(\"epochs:\",e_epoch)\n",
        "            history = model.fit(X_train, y_train, epochs=e_epoch, batch_size=256, verbose=0, validation_data=(X_test, y_test))\n",
        "\n",
        "            hist_df = pd.DataFrame(history.history) \n",
        "            Time_elasped= datetime.now() - startTime\n",
        "            print('\\nTime elasped: ', Time_elasped)\n",
        "\n",
        "            Train = model.predict(X_train)\n",
        "            Test = model.predict(X_test)\n",
        "\n",
        "            FileName=RNN_Method+'-LR'+str(e_LR)+'-DE'+str(e_decay)+'-'+str(e_epoch)\n",
        "            #np.savetxt(FileName+'_Train.csv', Train)\n",
        "            #np.savetxt(FileName+'_Test.csv', Test)\n",
        "            #with open(FileName+'_History.csv', mode='w') as f:\n",
        "            #    hist_df.to_csv(f)\n",
        "    \n",
        "            #model.save(FileName+'_Model.h5')\n",
        "            #Train = np.loadtxt(FileName+'_Train.csv')\n",
        "            #Test = np.loadtxt(FileName+'_Test.csv')\n",
        "            Train = geek.asarray(Train)# np.loadtxt(FileName+'_Train.csv')\n",
        "            Test = geek.asarray(Test)\n",
        "            Train = Train.reshape(Train.shape[0])\n",
        "            Test = Test.reshape(Test.shape[0])\n",
        "\n",
        "            print(\" \")\n",
        "            print(\"LRs:\",e_LR)\n",
        "            print(\"Decays:\",e_decay)\n",
        "            print(\"epochs:\",e_epoch)\n",
        "            print(\"Train ==>\")\n",
        "            CC_Train=np.corrcoef(y_train,Train)\n",
        "            print(\"CC_Train = %.3f\" %CC_Train[0,1])\n",
        "\n",
        "            NSTr=1 - sum((Train-y_train)**2)/sum((y_train-np.mean(y_train))**2)\n",
        "            print(\"NSTr = %.2f\" %NSTr)\n",
        "\n",
        "            rootMeanSquaredErrorTr = sqrt(mean_squared_error(y_train, Train))\n",
        "            print(\"RMSE = %.2f\" % rootMeanSquaredErrorTr)\n",
        "            MAETr=mean_absolute_error(y_train, Train)\n",
        "            print(\"MAE = %.2f\" %  MAETr)\n",
        "\n",
        "            MAPETr=np.mean(np.abs((y_train - Train) / y_train)) * 100\n",
        "            print(\"MAPE = %.2f\" %MAPETr)\n",
        "\n",
        "            print(\"Test ==>\")\n",
        "            CC_Test=np.corrcoef(y_test,Test)\n",
        "            print(\"CC_Test = %.3f\" %CC_Test[0,1])\n",
        "\n",
        "            NSTt=1 - sum((Test-y_test)**2)/sum((y_test-np.mean(y_test))**2)\n",
        "            print(\"NSTt = %.2f\" %NSTt)\n",
        "\n",
        "            rootMeanSquaredErrorTt = sqrt(mean_squared_error(y_test, Test))\n",
        "            print(\"RMSE = %.2f\" % rootMeanSquaredErrorTt)\n",
        "            MAETt=mean_absolute_error(y_test, Test)\n",
        "            print(\"MAE = %.2f\" %  MAETt)\n",
        "\n",
        "            MAPETt=np.mean(np.abs((y_test - Test) / y_test)) * 100\n",
        "            print(\"MAPE = %.2f\" %MAPETt)\n",
        "            #fileOfSummary.write(RNN_Method+','+str(e_LR)+','+str(e_decay)+','+str(e_epoch)+','+str(Time_elasped)+','+str(CC_Train[0,1])+','+str(CC_Test[0,1])+','+str(NSTr)+','+str(NSTt)+','+str(rootMeanSquaredErrorTr)+','+str(rootMeanSquaredErrorTt)+','+str(MAETr)+','+str(MAETt)+','+str(MAPETr)+','+str(MAPETt)+'\\n')\n",
        "            del model\n",
        "            "
      ],
      "execution_count": null,
      "outputs": [
        {
          "output_type": "stream",
          "text": [
            " \n",
            " \n",
            "LRs: 0.001\n",
            "Decays: 0.01\n",
            "epochs: 500\n",
            "\n",
            "Time elasped:  0:00:11.540835\n",
            " \n",
            "LRs: 0.001\n",
            "Decays: 0.01\n",
            "epochs: 500\n",
            "Train ==>\n",
            "CC_Train = 0.871\n",
            "NSTr = 0.76\n",
            "RMSE = 20.15\n",
            "MAE = 10.10\n",
            "MAPE = 90.06\n",
            "Test ==>\n",
            "CC_Test = 0.850\n",
            "NSTt = 0.72\n",
            "RMSE = 18.66\n",
            "MAE = 10.27\n",
            "MAPE = 89.23\n"
          ],
          "name": "stdout"
        }
      ]
    },
    {
      "cell_type": "code",
      "metadata": {
        "id": "ZPsCwkQACGS0",
        "outputId": "345701dc-0ea1-42ed-97da-b39329d6757a",
        "colab": {
          "base_uri": "https://localhost:8080/",
          "height": 54
        }
      },
      "source": [
        "#fileOfSummary.close()\n",
        "print(\"Summary file is written\")\n",
        "print(\"Finished\")"
      ],
      "execution_count": null,
      "outputs": [
        {
          "output_type": "stream",
          "text": [
            "Summary file is written\n",
            "Finished\n"
          ],
          "name": "stdout"
        }
      ]
    },
    {
      "cell_type": "code",
      "metadata": {
        "id": "E1v6SPFrqScP",
        "colab": {
          "base_uri": "https://localhost:8080/",
          "height": 223
        },
        "outputId": "7a693644-5ff9-4066-e3d6-b426539823ed"
      },
      "source": [
        "plt.figure(figsize=(4.5, 3))\n",
        "plt.rcParams[\"font.size\"] =10\n",
        "#plt.rcParams[\"font.family\"] = {'serif'}\n",
        "plt.plot(history.history['loss'],'b' ,label=\"Training loss\")\n",
        "plt.plot(history.history['val_loss'],'r', label=\"Testing loss\")\n",
        "#plt.rcParams['font.sans-serif'] = ['DejaVu Sans']\n",
        "plt.legend()\n",
        "plt.margins(0.02,0.02)\n",
        "plt.title(Method, position=(0.45, .87))\n",
        "plt.xlabel('Epoch')\n",
        "plt.ylabel('Loss')\n",
        "plt.savefig(RNN_Method+\"/\"+Method+\"-\"+str(datetime.now()).replace(\":\", \".\")+\".png\")"
      ],
      "execution_count": null,
      "outputs": [
        {
          "output_type": "display_data",
          "data": {
            "image/png": "[encoded data removed]",
            "text/plain": [
              "<Figure size 324x216 with 1 Axes>"
            ]
          },
          "metadata": {
            "tags": [],
            "needs_background": "light"
          }
        }
      ]
    },
    {
      "cell_type": "code",
      "metadata": {
        "id": "IRP5hZJaqT9j"
      },
      "source": [
        "plt.rcParams[\"font.family\"] = ['Tahoma', 'Lucida Grande', 'Verdana']\n",
        "plt.rcParams['font.sans-serif'] = ['DejaVu Sans']\n",
        "\n",
        "plt.rcParams[\"font.family\"] = {'serif'}\n",
        "#plt.rcParams['font.sans-serif'] = ['Tahoma', 'Lucida Grande', 'Verdana']\n",
        "plt.figure(figsize=(5, 3))\n",
        "plt.rcParams[\"font.size\"] =10\n",
        "params = {'mathtext.default': 'regular' }          \n",
        "plt.rcParams.update(params)\n",
        "plt.plot(y_train,'b',label='Train obs')\n",
        "plt.plot(Train,'r',label='Train pred')\n",
        "plt.plot([None for i in y_train] + [x for x in y_test],label='Test obs')\n",
        "plt.plot([None for i in Train] + [x for x in Test],label='Test pred')\n",
        "plt.xlabel('Time (Day)')\n",
        "plt.ylabel('Streamflow (m³/s)')\n",
        "plt.title(Method, position=(0.5, .87))\n",
        "plt.margins(0.02,0.03)\n",
        "plt.legend()\n",
        "\n",
        "plt.savefig(RNN_Method+\"/\"+Method+\"-\"+str(datetime.now()).replace(\":\", \".\")+\".png\")"
      ],
      "execution_count": null,
      "outputs": []
    },
    {
      "cell_type": "code",
      "metadata": {
        "id": "oB-1EgHpE0gD",
        "outputId": "86baa297-ef61-40e8-fd4e-65080743ea3c",
        "colab": {
          "base_uri": "https://localhost:8080/",
          "height": 54
        }
      },
      "source": [
        "print (Test.shape)\n",
        "#print (Test)\n",
        "#fig.savefig(RNN_Method+\"/\"+Method+\"-\"+str(datetime.now()).replace(\":\", \".\")+\".png\", dpi=150)\n",
        "print(RNN_Method+\"/\"+Method+\"-\"+str(datetime.now()).replace(\":\", \".\")+\".png\")\n"
      ],
      "execution_count": null,
      "outputs": [
        {
          "output_type": "stream",
          "text": [
            "(600,)\n",
            "/content/gdrive/My Drive/Colab Notebooks/E1/ANN-2020-05-18 14.14.41.763509.png\n"
          ],
          "name": "stdout"
        }
      ]
    },
    {
      "cell_type": "code",
      "metadata": {
        "id": "JtdkEaJQEQ7C"
      },
      "source": [
        ""
      ],
      "execution_count": null,
      "outputs": []
    }
  ]
}